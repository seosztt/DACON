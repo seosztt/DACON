{
 "cells": [
  {
   "cell_type": "code",
   "execution_count": 3,
   "id": "15630fe1",
   "metadata": {},
   "outputs": [],
   "source": [
    "import pandas as pd\n",
    "import sklearn\n",
    "from sklearn.tree import DecisionTreeClassifier\n",
    "from sklearn.tree import DecisionTreeRegressor"
   ]
  },
  {
   "cell_type": "code",
   "execution_count": 46,
   "id": "ecba498a",
   "metadata": {},
   "outputs": [],
   "source": [
    "train=pd.read_csv('./train.csv')\n",
    "test=pd.read_csv('./test.csv')"
   ]
  },
  {
   "cell_type": "code",
   "execution_count": 5,
   "id": "0100fac2",
   "metadata": {
    "collapsed": true
   },
   "outputs": [
    {
     "data": {
      "text/html": [
       "<div>\n",
       "<style scoped>\n",
       "    .dataframe tbody tr th:only-of-type {\n",
       "        vertical-align: middle;\n",
       "    }\n",
       "\n",
       "    .dataframe tbody tr th {\n",
       "        vertical-align: top;\n",
       "    }\n",
       "\n",
       "    .dataframe thead th {\n",
       "        text-align: right;\n",
       "    }\n",
       "</style>\n",
       "<table border=\"1\" class=\"dataframe\">\n",
       "  <thead>\n",
       "    <tr style=\"text-align: right;\">\n",
       "      <th></th>\n",
       "      <th>id</th>\n",
       "      <th>hour</th>\n",
       "      <th>hour_bef_temperature</th>\n",
       "      <th>hour_bef_precipitation</th>\n",
       "      <th>hour_bef_windspeed</th>\n",
       "      <th>hour_bef_humidity</th>\n",
       "      <th>hour_bef_visibility</th>\n",
       "      <th>hour_bef_ozone</th>\n",
       "      <th>hour_bef_pm10</th>\n",
       "      <th>hour_bef_pm2.5</th>\n",
       "      <th>count</th>\n",
       "    </tr>\n",
       "  </thead>\n",
       "  <tbody>\n",
       "    <tr>\n",
       "      <th>0</th>\n",
       "      <td>3</td>\n",
       "      <td>20</td>\n",
       "      <td>16.3</td>\n",
       "      <td>1.0</td>\n",
       "      <td>1.5</td>\n",
       "      <td>89.0</td>\n",
       "      <td>576.0</td>\n",
       "      <td>0.027</td>\n",
       "      <td>76.0</td>\n",
       "      <td>33.0</td>\n",
       "      <td>49.0</td>\n",
       "    </tr>\n",
       "    <tr>\n",
       "      <th>1</th>\n",
       "      <td>6</td>\n",
       "      <td>13</td>\n",
       "      <td>20.1</td>\n",
       "      <td>0.0</td>\n",
       "      <td>1.4</td>\n",
       "      <td>48.0</td>\n",
       "      <td>916.0</td>\n",
       "      <td>0.042</td>\n",
       "      <td>73.0</td>\n",
       "      <td>40.0</td>\n",
       "      <td>159.0</td>\n",
       "    </tr>\n",
       "    <tr>\n",
       "      <th>2</th>\n",
       "      <td>7</td>\n",
       "      <td>6</td>\n",
       "      <td>13.9</td>\n",
       "      <td>0.0</td>\n",
       "      <td>0.7</td>\n",
       "      <td>79.0</td>\n",
       "      <td>1382.0</td>\n",
       "      <td>0.033</td>\n",
       "      <td>32.0</td>\n",
       "      <td>19.0</td>\n",
       "      <td>26.0</td>\n",
       "    </tr>\n",
       "    <tr>\n",
       "      <th>3</th>\n",
       "      <td>8</td>\n",
       "      <td>23</td>\n",
       "      <td>8.1</td>\n",
       "      <td>0.0</td>\n",
       "      <td>2.7</td>\n",
       "      <td>54.0</td>\n",
       "      <td>946.0</td>\n",
       "      <td>0.040</td>\n",
       "      <td>75.0</td>\n",
       "      <td>64.0</td>\n",
       "      <td>57.0</td>\n",
       "    </tr>\n",
       "    <tr>\n",
       "      <th>4</th>\n",
       "      <td>9</td>\n",
       "      <td>18</td>\n",
       "      <td>29.5</td>\n",
       "      <td>0.0</td>\n",
       "      <td>4.8</td>\n",
       "      <td>7.0</td>\n",
       "      <td>2000.0</td>\n",
       "      <td>0.057</td>\n",
       "      <td>27.0</td>\n",
       "      <td>11.0</td>\n",
       "      <td>431.0</td>\n",
       "    </tr>\n",
       "  </tbody>\n",
       "</table>\n",
       "</div>"
      ],
      "text/plain": [
       "   id  hour  hour_bef_temperature  hour_bef_precipitation  hour_bef_windspeed  \\\n",
       "0   3    20                  16.3                     1.0                 1.5   \n",
       "1   6    13                  20.1                     0.0                 1.4   \n",
       "2   7     6                  13.9                     0.0                 0.7   \n",
       "3   8    23                   8.1                     0.0                 2.7   \n",
       "4   9    18                  29.5                     0.0                 4.8   \n",
       "\n",
       "   hour_bef_humidity  hour_bef_visibility  hour_bef_ozone  hour_bef_pm10  \\\n",
       "0               89.0                576.0           0.027           76.0   \n",
       "1               48.0                916.0           0.042           73.0   \n",
       "2               79.0               1382.0           0.033           32.0   \n",
       "3               54.0                946.0           0.040           75.0   \n",
       "4                7.0               2000.0           0.057           27.0   \n",
       "\n",
       "   hour_bef_pm2.5  count  \n",
       "0            33.0   49.0  \n",
       "1            40.0  159.0  \n",
       "2            19.0   26.0  \n",
       "3            64.0   57.0  \n",
       "4            11.0  431.0  "
      ]
     },
     "execution_count": 5,
     "metadata": {},
     "output_type": "execute_result"
    }
   ],
   "source": [
    "train.head()"
   ]
  },
  {
   "cell_type": "code",
   "execution_count": 6,
   "id": "b9a9444e",
   "metadata": {
    "collapsed": true
   },
   "outputs": [
    {
     "data": {
      "text/html": [
       "<div>\n",
       "<style scoped>\n",
       "    .dataframe tbody tr th:only-of-type {\n",
       "        vertical-align: middle;\n",
       "    }\n",
       "\n",
       "    .dataframe tbody tr th {\n",
       "        vertical-align: top;\n",
       "    }\n",
       "\n",
       "    .dataframe thead th {\n",
       "        text-align: right;\n",
       "    }\n",
       "</style>\n",
       "<table border=\"1\" class=\"dataframe\">\n",
       "  <thead>\n",
       "    <tr style=\"text-align: right;\">\n",
       "      <th></th>\n",
       "      <th>id</th>\n",
       "      <th>hour</th>\n",
       "      <th>hour_bef_temperature</th>\n",
       "      <th>hour_bef_precipitation</th>\n",
       "      <th>hour_bef_windspeed</th>\n",
       "      <th>hour_bef_humidity</th>\n",
       "      <th>hour_bef_visibility</th>\n",
       "      <th>hour_bef_ozone</th>\n",
       "      <th>hour_bef_pm10</th>\n",
       "      <th>hour_bef_pm2.5</th>\n",
       "      <th>count</th>\n",
       "    </tr>\n",
       "  </thead>\n",
       "  <tbody>\n",
       "    <tr>\n",
       "      <th>1454</th>\n",
       "      <td>2174</td>\n",
       "      <td>4</td>\n",
       "      <td>16.8</td>\n",
       "      <td>0.0</td>\n",
       "      <td>1.6</td>\n",
       "      <td>53.0</td>\n",
       "      <td>2000.0</td>\n",
       "      <td>0.031</td>\n",
       "      <td>37.0</td>\n",
       "      <td>27.0</td>\n",
       "      <td>21.0</td>\n",
       "    </tr>\n",
       "    <tr>\n",
       "      <th>1455</th>\n",
       "      <td>2175</td>\n",
       "      <td>3</td>\n",
       "      <td>10.8</td>\n",
       "      <td>0.0</td>\n",
       "      <td>3.8</td>\n",
       "      <td>45.0</td>\n",
       "      <td>2000.0</td>\n",
       "      <td>0.039</td>\n",
       "      <td>34.0</td>\n",
       "      <td>19.0</td>\n",
       "      <td>20.0</td>\n",
       "    </tr>\n",
       "    <tr>\n",
       "      <th>1456</th>\n",
       "      <td>2176</td>\n",
       "      <td>5</td>\n",
       "      <td>18.3</td>\n",
       "      <td>0.0</td>\n",
       "      <td>1.9</td>\n",
       "      <td>54.0</td>\n",
       "      <td>2000.0</td>\n",
       "      <td>0.009</td>\n",
       "      <td>30.0</td>\n",
       "      <td>21.0</td>\n",
       "      <td>22.0</td>\n",
       "    </tr>\n",
       "    <tr>\n",
       "      <th>1457</th>\n",
       "      <td>2178</td>\n",
       "      <td>21</td>\n",
       "      <td>20.7</td>\n",
       "      <td>0.0</td>\n",
       "      <td>3.7</td>\n",
       "      <td>37.0</td>\n",
       "      <td>1395.0</td>\n",
       "      <td>0.082</td>\n",
       "      <td>71.0</td>\n",
       "      <td>36.0</td>\n",
       "      <td>216.0</td>\n",
       "    </tr>\n",
       "    <tr>\n",
       "      <th>1458</th>\n",
       "      <td>2179</td>\n",
       "      <td>17</td>\n",
       "      <td>21.1</td>\n",
       "      <td>0.0</td>\n",
       "      <td>3.1</td>\n",
       "      <td>47.0</td>\n",
       "      <td>1973.0</td>\n",
       "      <td>0.046</td>\n",
       "      <td>38.0</td>\n",
       "      <td>17.0</td>\n",
       "      <td>170.0</td>\n",
       "    </tr>\n",
       "  </tbody>\n",
       "</table>\n",
       "</div>"
      ],
      "text/plain": [
       "        id  hour  hour_bef_temperature  hour_bef_precipitation  \\\n",
       "1454  2174     4                  16.8                     0.0   \n",
       "1455  2175     3                  10.8                     0.0   \n",
       "1456  2176     5                  18.3                     0.0   \n",
       "1457  2178    21                  20.7                     0.0   \n",
       "1458  2179    17                  21.1                     0.0   \n",
       "\n",
       "      hour_bef_windspeed  hour_bef_humidity  hour_bef_visibility  \\\n",
       "1454                 1.6               53.0               2000.0   \n",
       "1455                 3.8               45.0               2000.0   \n",
       "1456                 1.9               54.0               2000.0   \n",
       "1457                 3.7               37.0               1395.0   \n",
       "1458                 3.1               47.0               1973.0   \n",
       "\n",
       "      hour_bef_ozone  hour_bef_pm10  hour_bef_pm2.5  count  \n",
       "1454           0.031           37.0            27.0   21.0  \n",
       "1455           0.039           34.0            19.0   20.0  \n",
       "1456           0.009           30.0            21.0   22.0  \n",
       "1457           0.082           71.0            36.0  216.0  \n",
       "1458           0.046           38.0            17.0  170.0  "
      ]
     },
     "execution_count": 6,
     "metadata": {},
     "output_type": "execute_result"
    }
   ],
   "source": [
    "train.tail()"
   ]
  },
  {
   "cell_type": "code",
   "execution_count": 7,
   "id": "ba2bd73d",
   "metadata": {
    "collapsed": true
   },
   "outputs": [
    {
     "data": {
      "text/plain": [
       "id                          0\n",
       "hour                        0\n",
       "hour_bef_temperature        2\n",
       "hour_bef_precipitation      2\n",
       "hour_bef_windspeed          9\n",
       "hour_bef_humidity           2\n",
       "hour_bef_visibility         2\n",
       "hour_bef_ozone             76\n",
       "hour_bef_pm10              90\n",
       "hour_bef_pm2.5            117\n",
       "count                       0\n",
       "dtype: int64"
      ]
     },
     "execution_count": 7,
     "metadata": {},
     "output_type": "execute_result"
    }
   ],
   "source": [
    "train.isnull().sum()"
   ]
  },
  {
   "cell_type": "code",
   "execution_count": 31,
   "id": "be1dfe1b",
   "metadata": {},
   "outputs": [
    {
     "data": {
      "text/plain": [
       "2.4790344827586246"
      ]
     },
     "execution_count": 31,
     "metadata": {},
     "output_type": "execute_result"
    }
   ],
   "source": [
    "train['hour_bef_windspeed'].mean()"
   ]
  },
  {
   "cell_type": "code",
   "execution_count": 47,
   "id": "b70cfb75",
   "metadata": {},
   "outputs": [],
   "source": [
    "X_train=train.drop(['hour_bef_pm2.5','hour_bef_pm10','hour_bef_ozone','count'], axis=1).fillna(0)"
   ]
  },
  {
   "cell_type": "code",
   "execution_count": 48,
   "id": "e47a26e3",
   "metadata": {
    "collapsed": true
   },
   "outputs": [
    {
     "data": {
      "text/plain": [
       "id                        0\n",
       "hour                      0\n",
       "hour_bef_temperature      0\n",
       "hour_bef_precipitation    0\n",
       "hour_bef_windspeed        0\n",
       "hour_bef_humidity         0\n",
       "hour_bef_visibility       0\n",
       "dtype: int64"
      ]
     },
     "execution_count": 48,
     "metadata": {},
     "output_type": "execute_result"
    }
   ],
   "source": [
    "X_train.isnull().sum()"
   ]
  },
  {
   "cell_type": "code",
   "execution_count": 49,
   "id": "bd6d2cb7",
   "metadata": {},
   "outputs": [],
   "source": [
    "Y_train=train['count']"
   ]
  },
  {
   "cell_type": "code",
   "execution_count": 50,
   "id": "832808fd",
   "metadata": {
    "collapsed": true
   },
   "outputs": [
    {
     "name": "stdout",
     "output_type": "stream",
     "text": [
      "<class 'pandas.core.frame.DataFrame'>\n",
      "RangeIndex: 1459 entries, 0 to 1458\n",
      "Data columns (total 7 columns):\n",
      " #   Column                  Non-Null Count  Dtype  \n",
      "---  ------                  --------------  -----  \n",
      " 0   id                      1459 non-null   int64  \n",
      " 1   hour                    1459 non-null   int64  \n",
      " 2   hour_bef_temperature    1459 non-null   float64\n",
      " 3   hour_bef_precipitation  1459 non-null   float64\n",
      " 4   hour_bef_windspeed      1459 non-null   float64\n",
      " 5   hour_bef_humidity       1459 non-null   float64\n",
      " 6   hour_bef_visibility     1459 non-null   float64\n",
      "dtypes: float64(5), int64(2)\n",
      "memory usage: 79.9 KB\n"
     ]
    }
   ],
   "source": [
    "X_train.info()"
   ]
  },
  {
   "cell_type": "code",
   "execution_count": 51,
   "id": "ca496701",
   "metadata": {
    "scrolled": true
   },
   "outputs": [
    {
     "data": {
      "text/plain": [
       "DecisionTreeRegressor()"
      ]
     },
     "execution_count": 51,
     "metadata": {},
     "output_type": "execute_result"
    }
   ],
   "source": [
    "model=DecisionTreeRegressor()\n",
    "model.fit(X_train, Y_train)"
   ]
  },
  {
   "cell_type": "code",
   "execution_count": 52,
   "id": "7634833f",
   "metadata": {
    "collapsed": true
   },
   "outputs": [
    {
     "data": {
      "text/plain": [
       "id                         0\n",
       "hour                       0\n",
       "hour_bef_temperature       1\n",
       "hour_bef_precipitation     1\n",
       "hour_bef_windspeed         1\n",
       "hour_bef_humidity          1\n",
       "hour_bef_visibility        1\n",
       "hour_bef_ozone            35\n",
       "hour_bef_pm10             37\n",
       "hour_bef_pm2.5            36\n",
       "dtype: int64"
      ]
     },
     "execution_count": 52,
     "metadata": {},
     "output_type": "execute_result"
    }
   ],
   "source": [
    "test.isnull().sum()"
   ]
  },
  {
   "cell_type": "code",
   "execution_count": 53,
   "id": "60996df2",
   "metadata": {},
   "outputs": [],
   "source": [
    "test1=test.drop(['hour_bef_pm2.5','hour_bef_pm10','hour_bef_ozone'], axis=1).fillna(0)"
   ]
  },
  {
   "cell_type": "code",
   "execution_count": 54,
   "id": "11682a99",
   "metadata": {
    "scrolled": true
   },
   "outputs": [
    {
     "name": "stdout",
     "output_type": "stream",
     "text": [
      "<class 'pandas.core.frame.DataFrame'>\n",
      "RangeIndex: 715 entries, 0 to 714\n",
      "Data columns (total 7 columns):\n",
      " #   Column                  Non-Null Count  Dtype  \n",
      "---  ------                  --------------  -----  \n",
      " 0   id                      715 non-null    int64  \n",
      " 1   hour                    715 non-null    int64  \n",
      " 2   hour_bef_temperature    715 non-null    float64\n",
      " 3   hour_bef_precipitation  715 non-null    float64\n",
      " 4   hour_bef_windspeed      715 non-null    float64\n",
      " 5   hour_bef_humidity       715 non-null    float64\n",
      " 6   hour_bef_visibility     715 non-null    float64\n",
      "dtypes: float64(5), int64(2)\n",
      "memory usage: 39.2 KB\n"
     ]
    }
   ],
   "source": [
    "test1.info()"
   ]
  },
  {
   "cell_type": "code",
   "execution_count": 55,
   "id": "b4f1f9cb",
   "metadata": {},
   "outputs": [],
   "source": [
    "pred=model.predict(test1)"
   ]
  },
  {
   "cell_type": "code",
   "execution_count": 56,
   "id": "1af47a9b",
   "metadata": {
    "collapsed": true
   },
   "outputs": [
    {
     "data": {
      "text/plain": [
       "array([106., 324.,  27.,  18.,   2.,  97., 171., 300.,  53., 222., 252.,\n",
       "       219.,  41.,  36., 193., 229.,  30., 199., 380., 235., 324., 106.,\n",
       "        20., 107., 189., 115.,  27., 118.,  97., 229.,  30.,  30.,  74.,\n",
       "       189., 278.,  37., 147.,  52., 324.,  82.,  46., 118., 215.,  72.,\n",
       "       319., 221.,  82.,  62.,  27.,  98., 176.,  98.,  57.,  93., 225.,\n",
       "        57.,  36., 235.,  27.,  17., 106.,  99., 316., 252., 153., 319.,\n",
       "         9., 324.,   5.,  14., 115.,  50., 267.,  15., 319., 246.,  49.,\n",
       "       127., 332.,  13., 205., 133.,  87.,  98., 109., 293.,  63., 189.,\n",
       "        98., 252., 293., 281.,  63.,  92.,  50.,  98., 108.,  31., 241.,\n",
       "       153.,  19., 127.,  46., 137.,  82.,  36.,  92.,  20., 227., 140.,\n",
       "       324., 148., 153.,  95.,  63., 121., 252.,  50., 256.,  19.,  90.,\n",
       "       124., 199., 102.,  52., 129.,  46.,  27., 302.,  46., 121., 226.,\n",
       "        27., 130., 271., 229.,  39., 121., 293., 425., 208.,  34.,  37.,\n",
       "        71.,  76., 115.,  82., 129.,  97., 227.,  92., 310., 300., 324.,\n",
       "         5.,   9., 129.,   9., 104., 108., 133.,  20., 249., 324., 189.,\n",
       "         9., 316., 226., 252.,  16., 124.,  91.,  98., 189.,  95.,  66.,\n",
       "       252., 199., 324., 105., 256., 267., 189., 287., 107.,  91.,  98.,\n",
       "       317., 256.,  39.,  42., 227., 137.,  93., 121., 148., 300., 229.,\n",
       "       113.,  88.,  15., 305.,  15., 300.,  92.,  19., 124., 252., 199.,\n",
       "        77., 331., 267., 119., 191., 199., 119., 201., 124., 189.,  98.,\n",
       "       103.,  27.,  95.,  84., 138.,  42., 190., 261.,  37., 222., 252.,\n",
       "       137.,  16.,  82., 109.,  92., 425., 317., 152., 127.,  19., 258.,\n",
       "        14.,  97., 140.,  95.,   5., 232., 108.,  13.,  87., 324., 232.,\n",
       "       222.,  97., 267.,  34., 342.,  91.,  19., 127.,  30., 241.,  14.,\n",
       "        57., 218.,  27., 324.,  98., 219., 125., 127.,  46., 331.,  16.,\n",
       "       271., 104., 199., 215.,  40., 252.,  92.,  15., 304., 222., 124.,\n",
       "       227., 227.,  79., 109., 115., 205., 267., 121., 142.,  19., 235.,\n",
       "        40., 205.,  16.,  87., 247., 213., 227., 431., 246.,  97.,  46.,\n",
       "        97.,  98., 252., 205., 213.,  53., 205., 150.,   5.,  40.,  34.,\n",
       "        19., 199.,  40., 131., 232., 127., 425., 252.,  90.,  74.,  43.,\n",
       "        15., 127.,  46., 165., 150.,  53., 218., 252., 120., 425.,  20.,\n",
       "        16., 293., 275., 108.,   9.,  18.,  95., 113., 335., 199., 324.,\n",
       "        82.,  39., 213.,  53.,  16.,  16.,  92.,  88.,  49., 227., 193.,\n",
       "       212., 167.,  32.,  82.,  87.,  27., 226.,  93.,  18., 218., 293.,\n",
       "       233.,  16.,  40., 227., 127.,  53., 191., 108., 271., 252., 113.,\n",
       "        82., 125., 235., 137., 127.,  42.,   5., 252.,  29., 135., 108.,\n",
       "       252.,  34.,  32., 207.,  27., 121.,  13., 205., 127.,  75., 199.,\n",
       "       222.,  94., 135., 237., 278., 153., 114.,  39., 189., 324., 108.,\n",
       "        29.,  39.,  19.,  29.,  19.,  46., 189., 132.,  83., 324., 132.,\n",
       "       398., 120., 150., 252., 105., 135., 199., 331.,  30., 111., 398.,\n",
       "       244., 140.,  42., 100., 105., 117.,  92.,  42., 317., 252., 201.,\n",
       "       114., 145., 127., 229., 102., 127., 106.,  30., 108., 199., 119.,\n",
       "       137.,  94., 100., 125., 252.,  66., 257., 287., 218.,  29., 277.,\n",
       "        66., 169.,  97.,  16.,  33., 199., 252.,  90., 117.,  20.,  16.,\n",
       "       248.,  97., 366., 252.,  94., 140., 302., 150.,  49.,  82.,  20.,\n",
       "       241.,  93., 188., 310., 324.,  16., 256.,  39.,  88.,  30., 324.,\n",
       "       324.,  24., 140.,  18., 316., 199., 198., 199., 402.,  95.,  33.,\n",
       "       127., 121., 199.,  15., 221.,  21.,  39.,  17.,  23.,  46., 199.,\n",
       "       143., 189.,  53.,  82.,  33., 252.,  66.,  37.,  95.,  17.,  33.,\n",
       "        33., 252.,  11., 235., 244., 293., 127., 114., 241., 100., 117.,\n",
       "       198.,  33.,  24., 153.,  22., 236., 153.,  53.,   5., 324., 324.,\n",
       "       342.,  27.,  95.,  33.,  37.,  95., 117.,  20., 120.,  94., 309.,\n",
       "       119., 300., 246., 252., 229., 252.,  82.,  37.,  19.,  28., 100.,\n",
       "        17.,  16.,  93.,  16., 252., 274., 189., 100., 121.,  34., 120.,\n",
       "       103., 161., 324.,  14., 205., 119.,   2., 148., 100.,  70., 117.,\n",
       "       172., 236., 425., 271., 205., 127., 127.,  22.,  94., 161.,  24.,\n",
       "        51.,  61., 318., 236.,  39., 139.,  83., 193., 135., 317.,  49.,\n",
       "        37.,  13., 324., 205.,  86., 115.,  27., 100., 102., 104., 105.,\n",
       "       106.,  53., 135.,  92.,  49.,  79., 317., 119., 252., 102., 252.,\n",
       "       199.,  82.,  79.,  83.,   1., 324., 252., 100., 108.,  92.,  27.,\n",
       "       126., 252.,  27.,  71., 111.,  79., 236., 119., 293.,  90.,  90.,\n",
       "       189., 324., 109., 236.,  97.,  37., 236.,  14.,  19.,  14., 127.,\n",
       "       100.,  97., 252., 229., 116.,  27., 241.,  11.,  97.,  46.,  53.,\n",
       "        95.,  39., 218.,  35.,  43., 127.,  37., 280., 248.,  13., 425.,\n",
       "       114., 213.,  34.,  80.,  24., 304.,  29.,  49., 135., 213., 236.])"
      ]
     },
     "execution_count": 56,
     "metadata": {},
     "output_type": "execute_result"
    }
   ],
   "source": [
    "pred"
   ]
  },
  {
   "cell_type": "code",
   "execution_count": 57,
   "id": "e262719e",
   "metadata": {},
   "outputs": [],
   "source": [
    "submission=pd.read_csv('./submission.csv')"
   ]
  },
  {
   "cell_type": "code",
   "execution_count": 58,
   "id": "c586da34",
   "metadata": {},
   "outputs": [],
   "source": [
    "submission['count']=pred"
   ]
  },
  {
   "cell_type": "code",
   "execution_count": 59,
   "id": "ce2be213",
   "metadata": {},
   "outputs": [],
   "source": [
    "submission.to_csv('sub.csv',index=False)"
   ]
  }
 ],
 "metadata": {
  "kernelspec": {
   "display_name": "Python 3",
   "language": "python",
   "name": "python3"
  },
  "language_info": {
   "codemirror_mode": {
    "name": "ipython",
    "version": 3
   },
   "file_extension": ".py",
   "mimetype": "text/x-python",
   "name": "python",
   "nbconvert_exporter": "python",
   "pygments_lexer": "ipython3",
   "version": "3.8.8"
  }
 },
 "nbformat": 4,
 "nbformat_minor": 5
}
