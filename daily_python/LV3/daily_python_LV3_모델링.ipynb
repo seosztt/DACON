{
 "cells": [
  {
   "cell_type": "code",
   "execution_count": 93,
   "id": "8670a165",
   "metadata": {},
   "outputs": [],
   "source": [
    "import pandas as pd\n",
    "import seaborn as sns\n",
    "train=pd.read_csv('./train.csv')\n",
    "test=pd.read_csv('./test.csv')"
   ]
  },
  {
   "cell_type": "code",
   "execution_count": 55,
   "id": "2c291d6f",
   "metadata": {},
   "outputs": [],
   "source": [
    "import numpy as np\n",
    "quantile_25=np.quantile(train['fixed acidity'], 0.25)\n",
    "quantile_75=np.quantile(train['fixed acidity'], 0.75)\n",
    "IQR=quantile_75-quantile_25\n",
    "minimum=quantile_25-1.5*IQR\n",
    "maximun=quantile_75+1.5*IQR\n",
    "train=train[(minimum<=train['fixed acidity'])&(train['fixed acidity']<=maximun)]"
   ]
  },
  {
   "cell_type": "code",
   "execution_count": 94,
   "id": "4671e7e7",
   "metadata": {},
   "outputs": [],
   "source": [
    "from sklearn.preprocessing import MinMaxScaler\n",
    "scaler=MinMaxScaler()\n",
    "scaler.fit(train[['fixed acidity']])\n",
    "train['Scaled fixed acidity'] = scaler.transform(train[['fixed acidity']])\n",
    "test['Scaled fixed acidity'] = scaler.transform(test[['fixed acidity']])"
   ]
  },
  {
   "cell_type": "code",
   "execution_count": 95,
   "id": "4b605b61",
   "metadata": {},
   "outputs": [],
   "source": [
    "from sklearn.preprocessing import OneHotEncoder\n",
    "encoder=OneHotEncoder()\n",
    "encoder.fit(train[['type']])\n",
    "onehot = encoder.transform(train[['type']])\n",
    "onehot = onehot.toarray()\n",
    "onehot = pd.DataFrame(onehot)\n",
    "train = pd.concat([train,onehot], axis = 1).drop(columns = ['type'])\n",
    "\n",
    "onehot = encoder.transform(test[['type']])\n",
    "onehot = onehot.toarray()\n",
    "onehot = pd.DataFrame(onehot)\n",
    "onehot.columns = encoder.get_feature_names()\n",
    "test = pd.concat([test, onehot], axis = 1)\n",
    "test = test.drop(columns = ['type'])"
   ]
  },
  {
   "cell_type": "code",
   "execution_count": 74,
   "id": "fed3dd2c",
   "metadata": {
    "scrolled": true
   },
   "outputs": [
    {
     "name": "stdout",
     "output_type": "stream",
     "text": [
      "<class 'pandas.core.frame.DataFrame'>\n",
      "RangeIndex: 5497 entries, 0 to 5496\n",
      "Data columns (total 16 columns):\n",
      " #   Column                Non-Null Count  Dtype  \n",
      "---  ------                --------------  -----  \n",
      " 0   index                 5497 non-null   int64  \n",
      " 1   quality               5497 non-null   int64  \n",
      " 2   fixed acidity         5497 non-null   float64\n",
      " 3   volatile acidity      5497 non-null   float64\n",
      " 4   citric acid           5497 non-null   float64\n",
      " 5   residual sugar        5497 non-null   float64\n",
      " 6   chlorides             5497 non-null   float64\n",
      " 7   free sulfur dioxide   5497 non-null   float64\n",
      " 8   total sulfur dioxide  5497 non-null   float64\n",
      " 9   density               5497 non-null   float64\n",
      " 10  pH                    5497 non-null   float64\n",
      " 11  sulphates             5497 non-null   float64\n",
      " 12  alcohol               5497 non-null   float64\n",
      " 13  Scaled fixed acidity  5497 non-null   float64\n",
      " 14  0                     5497 non-null   float64\n",
      " 15  1                     5497 non-null   float64\n",
      "dtypes: float64(14), int64(2)\n",
      "memory usage: 687.2 KB\n"
     ]
    }
   ],
   "source": [
    "train.info()"
   ]
  },
  {
   "cell_type": "code",
   "execution_count": 75,
   "id": "6f08d798",
   "metadata": {},
   "outputs": [],
   "source": [
    "from sklearn.ensemble import RandomForestClassifier\n",
    "random_forest=RandomForestClassifier()"
   ]
  },
  {
   "cell_type": "code",
   "execution_count": 76,
   "id": "52acdc86",
   "metadata": {},
   "outputs": [],
   "source": [
    "X=train.drop(['quality'], axis=1)\n",
    "y=train['quality']"
   ]
  },
  {
   "cell_type": "code",
   "execution_count": 77,
   "id": "35decb37",
   "metadata": {},
   "outputs": [
    {
     "data": {
      "text/plain": [
       "RandomForestClassifier()"
      ]
     },
     "execution_count": 77,
     "metadata": {},
     "output_type": "execute_result"
    }
   ],
   "source": [
    "random_forest.fit(X,y)"
   ]
  },
  {
   "cell_type": "code",
   "execution_count": 79,
   "id": "0724cd4b",
   "metadata": {},
   "outputs": [],
   "source": [
    "from sklearn.model_selection import KFold\n",
    "kf=KFold(n_splits=5, shuffle=True, random_state=0)"
   ]
  },
  {
   "cell_type": "code",
   "execution_count": 80,
   "id": "4f99a1ba",
   "metadata": {},
   "outputs": [],
   "source": [
    "for train_idx, valid_idx in kf.split(train):\n",
    "    train_data=train.iloc[train_idx]\n",
    "    valid_data=train.iloc[valid_idx]"
   ]
  },
  {
   "cell_type": "code",
   "execution_count": 85,
   "id": "a1c1b8fc",
   "metadata": {},
   "outputs": [
    {
     "data": {
      "image/png": "[encoded data removed]",
      "text/plain": [
       "<Figure size 432x288 with 1 Axes>"
      ]
     },
     "metadata": {
      "needs_background": "light"
     },
     "output_type": "display_data"
    }
   ],
   "source": [
    "import matplotlib.pyplot as plt\n",
    "\n",
    "\n",
    "kf = KFold(n_splits = 5, shuffle = False)\n",
    "train_idx_store = []\n",
    "valid_idx_store = []\n",
    "\n",
    "i = 1\n",
    "for train_idx, valid_idx in kf.split(train):\n",
    "    plt.scatter(valid_idx, [i for x in range(len(valid_idx))], alpha = 0.1)\n",
    "    i += 1\n",
    "plt.show()"
   ]
  },
  {
   "cell_type": "code",
   "execution_count": 96,
   "id": "2f706c5a",
   "metadata": {},
   "outputs": [],
   "source": [
    "X = train.drop(columns = ['index','quality'])\n",
    "y = train['quality']\n",
    "kf = KFold(n_splits = 5, shuffle = True, random_state = 0)\n",
    "model = RandomForestClassifier(random_state = 0)\n",
    "valid_scores = []\n",
    "test_predictions = []"
   ]
  },
  {
   "cell_type": "code",
   "execution_count": 97,
   "id": "3d24162a",
   "metadata": {},
   "outputs": [
    {
     "name": "stdout",
     "output_type": "stream",
     "text": [
      "0.69\n",
      "평균 점수 :  0.69\n",
      "0.6663636363636364\n",
      "평균 점수 :  0.6781818181818182\n",
      "0.6569608735213831\n",
      "평균 점수 :  0.6711081699616731\n",
      "0.6760691537761602\n",
      "평균 점수 :  0.6723484159152949\n",
      "0.6715195632393085\n",
      "평균 점수 :  0.6721826453800976\n"
     ]
    }
   ],
   "source": [
    "from sklearn.metrics import accuracy_score\n",
    "for train_idx, valid_idx in kf.split(X,y):\n",
    "    X_tr = X.iloc[train_idx]\n",
    "    y_tr = y.iloc[train_idx]\n",
    "    X_val = X.iloc[valid_idx]\n",
    "    y_val = y.iloc[valid_idx]\n",
    "    model.fit(X_tr, y_tr)\n",
    "    valid_prediction = model.predict(X_val)\n",
    "    score = accuracy_score(y_val, valid_prediction)\n",
    "    valid_scores.append(score)\n",
    "    print(score)\n",
    "    print('평균 점수 : ', np.mean(valid_scores))"
   ]
  },
  {
   "cell_type": "code",
   "execution_count": 98,
   "id": "c07b4006",
   "metadata": {},
   "outputs": [],
   "source": [
    "for train_idx, valid_idx in kf.split(X,y):\n",
    "    X_tr = X.iloc[train_idx]\n",
    "    y_tr = y.iloc[train_idx]\n",
    "    X_val = X.iloc[valid_idx]\n",
    "    y_val = y.iloc[valid_idx]\n",
    "    model.fit(X_tr, y_tr)\n",
    "    test_prediction = model.predict(test.drop(columns = ['index']))\n",
    "    test_predictions.append(test_prediction)"
   ]
  },
  {
   "cell_type": "code",
   "execution_count": 99,
   "id": "2b3259d3",
   "metadata": {},
   "outputs": [
    {
     "data": {
      "text/html": [
       "<div>\n",
       "<style scoped>\n",
       "    .dataframe tbody tr th:only-of-type {\n",
       "        vertical-align: middle;\n",
       "    }\n",
       "\n",
       "    .dataframe tbody tr th {\n",
       "        vertical-align: top;\n",
       "    }\n",
       "\n",
       "    .dataframe thead th {\n",
       "        text-align: right;\n",
       "    }\n",
       "</style>\n",
       "<table border=\"1\" class=\"dataframe\">\n",
       "  <thead>\n",
       "    <tr style=\"text-align: right;\">\n",
       "      <th></th>\n",
       "      <th>0</th>\n",
       "      <th>1</th>\n",
       "      <th>2</th>\n",
       "      <th>3</th>\n",
       "      <th>4</th>\n",
       "      <th>5</th>\n",
       "      <th>6</th>\n",
       "      <th>7</th>\n",
       "      <th>8</th>\n",
       "      <th>9</th>\n",
       "      <th>...</th>\n",
       "      <th>990</th>\n",
       "      <th>991</th>\n",
       "      <th>992</th>\n",
       "      <th>993</th>\n",
       "      <th>994</th>\n",
       "      <th>995</th>\n",
       "      <th>996</th>\n",
       "      <th>997</th>\n",
       "      <th>998</th>\n",
       "      <th>999</th>\n",
       "    </tr>\n",
       "  </thead>\n",
       "  <tbody>\n",
       "    <tr>\n",
       "      <th>0</th>\n",
       "      <td>5</td>\n",
       "      <td>6</td>\n",
       "      <td>6</td>\n",
       "      <td>5</td>\n",
       "      <td>6</td>\n",
       "      <td>6</td>\n",
       "      <td>6</td>\n",
       "      <td>6</td>\n",
       "      <td>6</td>\n",
       "      <td>7</td>\n",
       "      <td>...</td>\n",
       "      <td>6</td>\n",
       "      <td>6</td>\n",
       "      <td>6</td>\n",
       "      <td>5</td>\n",
       "      <td>7</td>\n",
       "      <td>6</td>\n",
       "      <td>6</td>\n",
       "      <td>5</td>\n",
       "      <td>6</td>\n",
       "      <td>6</td>\n",
       "    </tr>\n",
       "    <tr>\n",
       "      <th>1</th>\n",
       "      <td>5</td>\n",
       "      <td>6</td>\n",
       "      <td>6</td>\n",
       "      <td>5</td>\n",
       "      <td>6</td>\n",
       "      <td>6</td>\n",
       "      <td>6</td>\n",
       "      <td>6</td>\n",
       "      <td>6</td>\n",
       "      <td>7</td>\n",
       "      <td>...</td>\n",
       "      <td>6</td>\n",
       "      <td>6</td>\n",
       "      <td>6</td>\n",
       "      <td>6</td>\n",
       "      <td>7</td>\n",
       "      <td>6</td>\n",
       "      <td>6</td>\n",
       "      <td>5</td>\n",
       "      <td>6</td>\n",
       "      <td>6</td>\n",
       "    </tr>\n",
       "    <tr>\n",
       "      <th>2</th>\n",
       "      <td>6</td>\n",
       "      <td>6</td>\n",
       "      <td>6</td>\n",
       "      <td>5</td>\n",
       "      <td>6</td>\n",
       "      <td>6</td>\n",
       "      <td>6</td>\n",
       "      <td>6</td>\n",
       "      <td>6</td>\n",
       "      <td>7</td>\n",
       "      <td>...</td>\n",
       "      <td>6</td>\n",
       "      <td>6</td>\n",
       "      <td>6</td>\n",
       "      <td>6</td>\n",
       "      <td>7</td>\n",
       "      <td>5</td>\n",
       "      <td>6</td>\n",
       "      <td>5</td>\n",
       "      <td>6</td>\n",
       "      <td>6</td>\n",
       "    </tr>\n",
       "    <tr>\n",
       "      <th>3</th>\n",
       "      <td>5</td>\n",
       "      <td>6</td>\n",
       "      <td>6</td>\n",
       "      <td>6</td>\n",
       "      <td>6</td>\n",
       "      <td>6</td>\n",
       "      <td>5</td>\n",
       "      <td>6</td>\n",
       "      <td>6</td>\n",
       "      <td>6</td>\n",
       "      <td>...</td>\n",
       "      <td>6</td>\n",
       "      <td>6</td>\n",
       "      <td>6</td>\n",
       "      <td>6</td>\n",
       "      <td>7</td>\n",
       "      <td>6</td>\n",
       "      <td>6</td>\n",
       "      <td>5</td>\n",
       "      <td>6</td>\n",
       "      <td>6</td>\n",
       "    </tr>\n",
       "    <tr>\n",
       "      <th>4</th>\n",
       "      <td>5</td>\n",
       "      <td>6</td>\n",
       "      <td>6</td>\n",
       "      <td>5</td>\n",
       "      <td>7</td>\n",
       "      <td>6</td>\n",
       "      <td>5</td>\n",
       "      <td>6</td>\n",
       "      <td>6</td>\n",
       "      <td>7</td>\n",
       "      <td>...</td>\n",
       "      <td>6</td>\n",
       "      <td>6</td>\n",
       "      <td>6</td>\n",
       "      <td>6</td>\n",
       "      <td>6</td>\n",
       "      <td>6</td>\n",
       "      <td>5</td>\n",
       "      <td>5</td>\n",
       "      <td>6</td>\n",
       "      <td>7</td>\n",
       "    </tr>\n",
       "  </tbody>\n",
       "</table>\n",
       "<p>5 rows × 1000 columns</p>\n",
       "</div>"
      ],
      "text/plain": [
       "   0    1    2    3    4    5    6    7    8    9    ...  990  991  992  993  \\\n",
       "0    5    6    6    5    6    6    6    6    6    7  ...    6    6    6    5   \n",
       "1    5    6    6    5    6    6    6    6    6    7  ...    6    6    6    6   \n",
       "2    6    6    6    5    6    6    6    6    6    7  ...    6    6    6    6   \n",
       "3    5    6    6    6    6    6    5    6    6    6  ...    6    6    6    6   \n",
       "4    5    6    6    5    7    6    5    6    6    7  ...    6    6    6    6   \n",
       "\n",
       "   994  995  996  997  998  999  \n",
       "0    7    6    6    5    6    6  \n",
       "1    7    6    6    5    6    6  \n",
       "2    7    5    6    5    6    6  \n",
       "3    7    6    6    5    6    6  \n",
       "4    6    6    5    5    6    7  \n",
       "\n",
       "[5 rows x 1000 columns]"
      ]
     },
     "execution_count": 99,
     "metadata": {},
     "output_type": "execute_result"
    }
   ],
   "source": [
    "test_predictions = pd.DataFrame(test_predictions)\n",
    "test_predictions"
   ]
  },
  {
   "cell_type": "code",
   "execution_count": 100,
   "id": "6b3f4d34",
   "metadata": {},
   "outputs": [
    {
     "data": {
      "text/plain": [
       "array([5, 6, 6, 5, 6, 6, 6, 6, 6, 7, 6, 5, 7, 6, 5, 5, 6, 7, 5, 6, 6, 6,\n",
       "       5, 7, 6, 5, 5, 5, 5, 5, 7, 6, 5, 5, 6, 6, 5, 5, 6, 6, 6, 5, 5, 5,\n",
       "       6, 6, 5, 6, 4, 6, 5, 5, 6, 4, 5, 6, 6, 5, 5, 6, 5, 6, 6, 6, 6, 6,\n",
       "       5, 5, 6, 5, 5, 5, 5, 5, 6, 5, 6, 6, 6, 7, 6, 6, 5, 5, 6, 6, 5, 5,\n",
       "       6, 6, 6, 6, 6, 6, 6, 7, 6, 6, 6, 6, 5, 6, 5, 5, 6, 6, 6, 6, 7, 5,\n",
       "       7, 6, 6, 5, 5, 6, 6, 7, 7, 5, 6, 5, 6, 7, 5, 5, 6, 6, 6, 7, 5, 5,\n",
       "       6, 5, 5, 6, 6, 7, 5, 5, 5, 6, 5, 5, 5, 5, 7, 6, 7, 6, 5, 8, 6, 5,\n",
       "       6, 5, 6, 5, 6, 5, 5, 6, 6, 7, 6, 6, 6, 6, 5, 6, 5, 5, 6, 5, 6, 6,\n",
       "       6, 5, 6, 6, 6, 6, 7, 7, 5, 6, 6, 6, 5, 6, 6, 6, 6, 6, 6, 6, 6, 5,\n",
       "       5, 5, 6, 5, 6, 5, 5, 5, 6, 6, 6, 6, 7, 5, 5, 5, 6, 6, 6, 6, 6, 6,\n",
       "       6, 6, 6, 6, 7, 6, 6, 5, 6, 5, 6, 7, 7, 6, 6, 6, 5, 6, 6, 7, 6, 6,\n",
       "       6, 6, 7, 6, 5, 6, 6, 6, 5, 6, 7, 7, 6, 6, 6, 7, 7, 6, 7, 5, 5, 7,\n",
       "       5, 5, 6, 5, 6, 6, 6, 5, 5, 5, 6, 5, 7, 7, 5, 6, 6, 6, 6, 5, 7, 7,\n",
       "       6, 6, 6, 6, 5, 5, 5, 6, 5, 7, 8, 6, 5, 7, 6, 6, 5, 5, 5, 7, 5, 7,\n",
       "       5, 5, 6, 5, 6, 5, 6, 6, 5, 5, 6, 6, 5, 6, 6, 5, 5, 5, 5, 6, 6, 5,\n",
       "       5, 7, 7, 5, 5, 6, 5, 6, 6, 6, 6, 6, 6, 6, 5, 6, 5, 6, 5, 6, 5, 6,\n",
       "       5, 6, 6, 5, 6, 6, 6, 6, 5, 6, 6, 7, 7, 6, 5, 5, 7, 6, 6, 6, 5, 5,\n",
       "       6, 5, 5, 6, 6, 6, 7, 6, 7, 7, 5, 6, 6, 5, 6, 5, 7, 5, 7, 5, 5, 6,\n",
       "       6, 6, 7, 5, 7, 6, 6, 6, 7, 5, 6, 6, 6, 6, 6, 5, 6, 5, 6, 6, 6, 6,\n",
       "       5, 5, 7, 6, 5, 6, 5, 6, 6, 6, 5, 6, 7, 5, 5, 6, 7, 5, 6, 5, 5, 5,\n",
       "       5, 7, 6, 6, 6, 6, 5, 5, 5, 6, 6, 6, 5, 6, 6, 6, 7, 5, 6, 5, 5, 7,\n",
       "       5, 5, 5, 5, 6, 6, 6, 5, 5, 5, 5, 5, 5, 6, 6, 8, 7, 6, 6, 7, 6, 5,\n",
       "       8, 6, 5, 6, 5, 6, 7, 6, 5, 7, 5, 6, 6, 5, 6, 6, 6, 6, 6, 7, 6, 5,\n",
       "       6, 7, 6, 7, 5, 5, 6, 6, 5, 5, 5, 7, 6, 5, 5, 5, 5, 7, 6, 5, 7, 6,\n",
       "       6, 6, 5, 5, 6, 5, 6, 6, 6, 6, 5, 5, 6, 5, 6, 6, 6, 6, 6, 5, 5, 6,\n",
       "       6, 6, 6, 6, 5, 6, 5, 5, 5, 6, 5, 6, 6, 6, 7, 6, 6, 7, 6, 5, 6, 5,\n",
       "       5, 7, 6, 5, 6, 5, 5, 5, 6, 6, 6, 5, 6, 7, 7, 7, 6, 7, 7, 5, 7, 6,\n",
       "       5, 6, 5, 6, 6, 6, 6, 7, 6, 7, 5, 6, 5, 5, 7, 6, 8, 5, 6, 6, 6, 6,\n",
       "       5, 6, 7, 6, 6, 6, 6, 6, 5, 6, 5, 6, 5, 6, 5, 5, 6, 5, 5, 7, 5, 6,\n",
       "       8, 5, 5, 6, 6, 6, 6, 6, 5, 5, 6, 5, 6, 5, 6, 7, 6, 5, 6, 6, 6, 5,\n",
       "       7, 5, 6, 6, 6, 5, 6, 5, 6, 5, 6, 5, 6, 6, 5, 5, 5, 6, 7, 7, 7, 6,\n",
       "       7, 5, 6, 8, 6, 6, 5, 6, 7, 5, 5, 6, 6, 6, 6, 6, 5, 6, 7, 5, 6, 5,\n",
       "       5, 6, 5, 6, 5, 5, 5, 5, 6, 5, 7, 6, 5, 6, 6, 6, 5, 6, 8, 5, 5, 6,\n",
       "       6, 4, 7, 6, 5, 7, 5, 5, 7, 6, 5, 7, 6, 5, 6, 6, 6, 5, 5, 6, 7, 6,\n",
       "       5, 5, 6, 5, 5, 6, 6, 7, 5, 7, 5, 7, 5, 5, 6, 7, 6, 6, 5, 6, 5, 6,\n",
       "       5, 5, 6, 5, 6, 6, 6, 5, 6, 5, 6, 5, 5, 6, 5, 5, 6, 5, 5, 6, 6, 6,\n",
       "       6, 6, 7, 6, 6, 5, 6, 5, 5, 5, 6, 6, 5, 6, 5, 7, 6, 6, 7, 6, 5, 6,\n",
       "       7, 5, 6, 6, 6, 5, 6, 5, 5, 5, 8, 6, 6, 5, 6, 7, 6, 7, 6, 5, 7, 6,\n",
       "       6, 7, 5, 6, 5, 6, 6, 6, 6, 6, 6, 7, 7, 6, 5, 7, 5, 6, 5, 6, 6, 5,\n",
       "       5, 6, 5, 6, 6, 5, 6, 6, 6, 7, 5, 6, 7, 7, 7, 7, 5, 5, 6, 6, 6, 6,\n",
       "       5, 7, 5, 5, 5, 6, 5, 6, 7, 5, 5, 6, 7, 5, 5, 5, 6, 6, 6, 7, 6, 6,\n",
       "       5, 7, 6, 6, 5, 7, 5, 6, 6, 6, 6, 6, 6, 7, 7, 6, 5, 5, 6, 5, 6, 6,\n",
       "       6, 5, 6, 5, 6, 6, 5, 5, 6, 6, 5, 6, 5, 6, 4, 6, 5, 6, 6, 5, 8, 6,\n",
       "       6, 5, 6, 6, 6, 8, 6, 6, 5, 6, 6, 6, 6, 6, 5, 5, 5, 5, 6, 5, 5, 5,\n",
       "       5, 7, 6, 6, 7, 7, 6, 5, 6, 6, 6, 6, 6, 5, 5, 5, 5, 6, 6, 5, 5, 5,\n",
       "       6, 6, 6, 5, 7, 6, 6, 5, 6, 6], dtype=int64)"
      ]
     },
     "execution_count": 100,
     "metadata": {},
     "output_type": "execute_result"
    }
   ],
   "source": [
    "test_prediction = test_predictions.mode()\n",
    "test_prediction = test_predictions.values[0]\n",
    "test_prediction"
   ]
  },
  {
   "cell_type": "code",
   "execution_count": 101,
   "id": "beb56ff7",
   "metadata": {},
   "outputs": [],
   "source": [
    "sample_submission = pd.read_csv('./sample_submission.csv')\n",
    "sample_submission['quality'] = test_prediction\n",
    "sample_submission.to_csv('./submission_KFOLD.csv', index=False)"
   ]
  },
  {
   "cell_type": "code",
   "execution_count": null,
   "id": "dc416efd",
   "metadata": {},
   "outputs": [],
   "source": []
  }
 ],
 "metadata": {
  "kernelspec": {
   "display_name": "Python 3",
   "language": "python",
   "name": "python3"
  },
  "language_info": {
   "codemirror_mode": {
    "name": "ipython",
    "version": 3
   },
   "file_extension": ".py",
   "mimetype": "text/x-python",
   "name": "python",
   "nbconvert_exporter": "python",
   "pygments_lexer": "ipython3",
   "version": "3.8.8"
  }
 },
 "nbformat": 4,
 "nbformat_minor": 5
}
