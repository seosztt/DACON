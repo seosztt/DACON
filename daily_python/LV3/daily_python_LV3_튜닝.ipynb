{
 "cells": [
  {
   "cell_type": "code",
   "execution_count": 3,
   "id": "38bc3856",
   "metadata": {},
   "outputs": [],
   "source": [
    "import pandas as pd\n",
    "from sklearn.preprocessing import MinMaxScaler, OneHotEncoder\n",
    "from sklearn.ensemble import RandomForestClassifier\n",
    "\n",
    "from sklearn.model_selection import KFold, train_test_split\n",
    "from sklearn.metrics import accuracy_score\n",
    "import numpy as np"
   ]
  },
  {
   "cell_type": "code",
   "execution_count": 5,
   "id": "41901c22",
   "metadata": {},
   "outputs": [
    {
     "data": {
      "text/html": [
       "<div>\n",
       "<style scoped>\n",
       "    .dataframe tbody tr th:only-of-type {\n",
       "        vertical-align: middle;\n",
       "    }\n",
       "\n",
       "    .dataframe tbody tr th {\n",
       "        vertical-align: top;\n",
       "    }\n",
       "\n",
       "    .dataframe thead th {\n",
       "        text-align: right;\n",
       "    }\n",
       "</style>\n",
       "<table border=\"1\" class=\"dataframe\">\n",
       "  <thead>\n",
       "    <tr style=\"text-align: right;\">\n",
       "      <th></th>\n",
       "      <th>index</th>\n",
       "      <th>fixed acidity</th>\n",
       "      <th>volatile acidity</th>\n",
       "      <th>citric acid</th>\n",
       "      <th>residual sugar</th>\n",
       "      <th>chlorides</th>\n",
       "      <th>free sulfur dioxide</th>\n",
       "      <th>total sulfur dioxide</th>\n",
       "      <th>density</th>\n",
       "      <th>pH</th>\n",
       "      <th>sulphates</th>\n",
       "      <th>alcohol</th>\n",
       "      <th>Scaled fixed acidity</th>\n",
       "      <th>x0_red</th>\n",
       "      <th>x0_white</th>\n",
       "    </tr>\n",
       "  </thead>\n",
       "  <tbody>\n",
       "    <tr>\n",
       "      <th>0</th>\n",
       "      <td>0</td>\n",
       "      <td>9.0</td>\n",
       "      <td>0.31</td>\n",
       "      <td>0.48</td>\n",
       "      <td>6.6</td>\n",
       "      <td>0.043</td>\n",
       "      <td>11.0</td>\n",
       "      <td>73.0</td>\n",
       "      <td>0.99380</td>\n",
       "      <td>2.90</td>\n",
       "      <td>0.38</td>\n",
       "      <td>11.6</td>\n",
       "      <td>0.429752</td>\n",
       "      <td>0.0</td>\n",
       "      <td>1.0</td>\n",
       "    </tr>\n",
       "    <tr>\n",
       "      <th>1</th>\n",
       "      <td>1</td>\n",
       "      <td>13.3</td>\n",
       "      <td>0.43</td>\n",
       "      <td>0.58</td>\n",
       "      <td>1.9</td>\n",
       "      <td>0.070</td>\n",
       "      <td>15.0</td>\n",
       "      <td>40.0</td>\n",
       "      <td>1.00040</td>\n",
       "      <td>3.06</td>\n",
       "      <td>0.49</td>\n",
       "      <td>9.0</td>\n",
       "      <td>0.785124</td>\n",
       "      <td>1.0</td>\n",
       "      <td>0.0</td>\n",
       "    </tr>\n",
       "    <tr>\n",
       "      <th>2</th>\n",
       "      <td>2</td>\n",
       "      <td>6.5</td>\n",
       "      <td>0.28</td>\n",
       "      <td>0.27</td>\n",
       "      <td>5.2</td>\n",
       "      <td>0.040</td>\n",
       "      <td>44.0</td>\n",
       "      <td>179.0</td>\n",
       "      <td>0.99480</td>\n",
       "      <td>3.19</td>\n",
       "      <td>0.69</td>\n",
       "      <td>9.4</td>\n",
       "      <td>0.223140</td>\n",
       "      <td>0.0</td>\n",
       "      <td>1.0</td>\n",
       "    </tr>\n",
       "    <tr>\n",
       "      <th>3</th>\n",
       "      <td>3</td>\n",
       "      <td>7.2</td>\n",
       "      <td>0.15</td>\n",
       "      <td>0.39</td>\n",
       "      <td>1.8</td>\n",
       "      <td>0.043</td>\n",
       "      <td>21.0</td>\n",
       "      <td>159.0</td>\n",
       "      <td>0.99480</td>\n",
       "      <td>3.52</td>\n",
       "      <td>0.47</td>\n",
       "      <td>10.0</td>\n",
       "      <td>0.280992</td>\n",
       "      <td>0.0</td>\n",
       "      <td>1.0</td>\n",
       "    </tr>\n",
       "    <tr>\n",
       "      <th>4</th>\n",
       "      <td>4</td>\n",
       "      <td>6.8</td>\n",
       "      <td>0.26</td>\n",
       "      <td>0.26</td>\n",
       "      <td>2.0</td>\n",
       "      <td>0.019</td>\n",
       "      <td>23.5</td>\n",
       "      <td>72.0</td>\n",
       "      <td>0.99041</td>\n",
       "      <td>3.16</td>\n",
       "      <td>0.47</td>\n",
       "      <td>11.8</td>\n",
       "      <td>0.247934</td>\n",
       "      <td>0.0</td>\n",
       "      <td>1.0</td>\n",
       "    </tr>\n",
       "  </tbody>\n",
       "</table>\n",
       "</div>"
      ],
      "text/plain": [
       "   index  fixed acidity  volatile acidity  citric acid  residual sugar  \\\n",
       "0      0            9.0              0.31         0.48             6.6   \n",
       "1      1           13.3              0.43         0.58             1.9   \n",
       "2      2            6.5              0.28         0.27             5.2   \n",
       "3      3            7.2              0.15         0.39             1.8   \n",
       "4      4            6.8              0.26         0.26             2.0   \n",
       "\n",
       "   chlorides  free sulfur dioxide  total sulfur dioxide  density    pH  \\\n",
       "0      0.043                 11.0                  73.0  0.99380  2.90   \n",
       "1      0.070                 15.0                  40.0  1.00040  3.06   \n",
       "2      0.040                 44.0                 179.0  0.99480  3.19   \n",
       "3      0.043                 21.0                 159.0  0.99480  3.52   \n",
       "4      0.019                 23.5                  72.0  0.99041  3.16   \n",
       "\n",
       "   sulphates  alcohol  Scaled fixed acidity  x0_red  x0_white  \n",
       "0       0.38     11.6              0.429752     0.0       1.0  \n",
       "1       0.49      9.0              0.785124     1.0       0.0  \n",
       "2       0.69      9.4              0.223140     0.0       1.0  \n",
       "3       0.47     10.0              0.280992     0.0       1.0  \n",
       "4       0.47     11.8              0.247934     0.0       1.0  "
      ]
     },
     "execution_count": 5,
     "metadata": {},
     "output_type": "execute_result"
    }
   ],
   "source": [
    "train = pd.read_csv('./train.csv')\n",
    "test = pd.read_csv('./test.csv')\n",
    "\n",
    "# Scailing\n",
    "scaler = MinMaxScaler()\n",
    "scaler.fit(train[['fixed acidity']])\n",
    "train['Scaled fixed acidity'] = scaler.transform(train[['fixed acidity']])\n",
    "test['Scaled fixed acidity'] = scaler.transform(test[['fixed acidity']])\n",
    "\n",
    "# Encoding\n",
    "encoder = OneHotEncoder()\n",
    "encoder.fit(train[['type']])\n",
    "onehot = encoder.transform(train[['type']])\n",
    "onehot = onehot.toarray()\n",
    "onehot = pd.DataFrame(onehot)\n",
    "onehot.columns = encoder.get_feature_names()\n",
    "train = pd.concat([train, onehot], axis = 1)\n",
    "train = train.drop(columns = ['type'])\n",
    "\n",
    "onehot = encoder.transform(test[['type']])\n",
    "onehot = onehot.toarray()\n",
    "onehot = pd.DataFrame(onehot)\n",
    "onehot.columns = encoder.get_feature_names()\n",
    "test = pd.concat([test, onehot], axis = 1)\n",
    "test = test.drop(columns = ['type'])\n",
    "\n",
    "test.head()"
   ]
  },
  {
   "cell_type": "code",
   "execution_count": 1,
   "id": "45a394b9",
   "metadata": {
    "scrolled": true
   },
   "outputs": [
    {
     "name": "stdout",
     "output_type": "stream",
     "text": [
      "Collecting bayesian-optimization\n",
      "  Downloading bayesian-optimization-1.2.0.tar.gz (14 kB)\n",
      "Requirement already satisfied: numpy>=1.9.0 in c:\\programdata\\anaconda3\\lib\\site-packages (from bayesian-optimization) (1.20.1)\n",
      "Requirement already satisfied: scipy>=0.14.0 in c:\\programdata\\anaconda3\\lib\\site-packages (from bayesian-optimization) (1.6.2)\n",
      "Requirement already satisfied: scikit-learn>=0.18.0 in c:\\programdata\\anaconda3\\lib\\site-packages (from bayesian-optimization) (0.24.1)\n",
      "Requirement already satisfied: threadpoolctl>=2.0.0 in c:\\programdata\\anaconda3\\lib\\site-packages (from scikit-learn>=0.18.0->bayesian-optimization) (2.1.0)\n",
      "Requirement already satisfied: joblib>=0.11 in c:\\programdata\\anaconda3\\lib\\site-packages (from scikit-learn>=0.18.0->bayesian-optimization) (1.0.1)\n",
      "Building wheels for collected packages: bayesian-optimization\n",
      "  Building wheel for bayesian-optimization (setup.py): started\n",
      "  Building wheel for bayesian-optimization (setup.py): finished with status 'done'\n",
      "  Created wheel for bayesian-optimization: filename=bayesian_optimization-1.2.0-py3-none-any.whl size=11685 sha256=a1788a647c13a654c3767226acc7ff6d297010d6e44b11f61287e16d15d3a062\n",
      "  Stored in directory: c:\\users\\user\\appdata\\local\\pip\\cache\\wheels\\37\\fa\\19\\f93e793d3944567a60b3ab93b446cf7370cc82c60c1d1c613f\n",
      "Successfully built bayesian-optimization\n",
      "Installing collected packages: bayesian-optimization\n",
      "Successfully installed bayesian-optimization-1.2.0\n",
      "Note: you may need to restart the kernel to use updated packages.\n"
     ]
    }
   ],
   "source": [
    "pip install bayesian-optimization"
   ]
  },
  {
   "cell_type": "code",
   "execution_count": 2,
   "id": "0dfb2f34",
   "metadata": {},
   "outputs": [],
   "source": [
    "from bayes_opt import BayesianOptimization"
   ]
  },
  {
   "cell_type": "code",
   "execution_count": 6,
   "id": "8a950239",
   "metadata": {},
   "outputs": [],
   "source": [
    "X = train.drop(columns = ['index', 'quality'])\n",
    "y = train['quality']"
   ]
  },
  {
   "cell_type": "code",
   "execution_count": 7,
   "id": "34212ee3",
   "metadata": {},
   "outputs": [],
   "source": [
    "rf_parameter_bounds = {\n",
    "                      'max_depth' : (1,3), # 나무의 깊이\n",
    "                      'n_estimators' : (30,100),\n",
    "                      }"
   ]
  },
  {
   "cell_type": "code",
   "execution_count": 8,
   "id": "e70c9d8f",
   "metadata": {},
   "outputs": [],
   "source": [
    "def rf_bo(max_depth, n_estimators):\n",
    "    rf_params = {\n",
    "                'max_depth' : int(round(max_depth)),\n",
    "                'n_estimators' : int(round(n_estimators)),      \n",
    "                }\n",
    "    rf = RandomForestClassifier(**rf_params)\n",
    "    X_train, X_valid, y_train, y_valid = train_test_split(X,y,test_size = 0.2, )\n",
    "    rf.fit(X_train,y_train)\n",
    "    score = accuracy_score(y_valid, rf.predict(X_valid))\n",
    "    return score"
   ]
  },
  {
   "cell_type": "code",
   "execution_count": 9,
   "id": "52383cbf",
   "metadata": {},
   "outputs": [],
   "source": [
    "BO_rf = BayesianOptimization(f = rf_bo, pbounds = rf_parameter_bounds,random_state = 0)"
   ]
  },
  {
   "cell_type": "code",
   "execution_count": 10,
   "id": "d013b33f",
   "metadata": {},
   "outputs": [
    {
     "name": "stdout",
     "output_type": "stream",
     "text": [
      "|   iter    |  target   | max_depth | n_esti... |\n",
      "-------------------------------------------------\n",
      "| \u001b[0m 1       \u001b[0m | \u001b[0m 0.5173  \u001b[0m | \u001b[0m 2.098   \u001b[0m | \u001b[0m 80.06   \u001b[0m |\n",
      "| \u001b[0m 2       \u001b[0m | \u001b[0m 0.5173  \u001b[0m | \u001b[0m 2.206   \u001b[0m | \u001b[0m 68.14   \u001b[0m |\n",
      "| \u001b[0m 3       \u001b[0m | \u001b[0m 0.5064  \u001b[0m | \u001b[0m 1.847   \u001b[0m | \u001b[0m 75.21   \u001b[0m |\n",
      "| \u001b[0m 4       \u001b[0m | \u001b[0m 0.5136  \u001b[0m | \u001b[0m 1.875   \u001b[0m | \u001b[0m 92.42   \u001b[0m |\n",
      "| \u001b[95m 5       \u001b[0m | \u001b[95m 0.5309  \u001b[0m | \u001b[95m 2.927   \u001b[0m | \u001b[95m 56.84   \u001b[0m |\n",
      "| \u001b[0m 6       \u001b[0m | \u001b[0m 0.42    \u001b[0m | \u001b[0m 1.018   \u001b[0m | \u001b[0m 48.01   \u001b[0m |\n",
      "| \u001b[95m 7       \u001b[0m | \u001b[95m 0.5382  \u001b[0m | \u001b[95m 2.789   \u001b[0m | \u001b[95m 60.28   \u001b[0m |\n",
      "| \u001b[0m 8       \u001b[0m | \u001b[0m 0.5364  \u001b[0m | \u001b[0m 3.0     \u001b[0m | \u001b[0m 30.0    \u001b[0m |\n",
      "| \u001b[0m 9       \u001b[0m | \u001b[0m 0.5273  \u001b[0m | \u001b[0m 3.0     \u001b[0m | \u001b[0m 100.0   \u001b[0m |\n",
      "| \u001b[0m 10      \u001b[0m | \u001b[0m 0.4809  \u001b[0m | \u001b[0m 1.0     \u001b[0m | \u001b[0m 35.22   \u001b[0m |\n",
      "=================================================\n"
     ]
    }
   ],
   "source": [
    "BO_rf.maximize(init_points = 5, n_iter = 5)"
   ]
  },
  {
   "cell_type": "code",
   "execution_count": 11,
   "id": "872a3a98",
   "metadata": {},
   "outputs": [
    {
     "name": "stdout",
     "output_type": "stream",
     "text": [
      "{'max_depth': 2, 'n_estimators': 60}\n"
     ]
    }
   ],
   "source": [
    "max_params = BO_rf.max['params']\n",
    "\n",
    "max_params['max_depth'] = int(max_params['max_depth'])\n",
    "max_params['n_estimators'] = int(max_params['n_estimators'])\n",
    "print(max_params)"
   ]
  },
  {
   "cell_type": "code",
   "execution_count": 12,
   "id": "b223ccc2",
   "metadata": {},
   "outputs": [],
   "source": [
    "BO_tuend_rf = RandomForestClassifier(**max_params)"
   ]
  },
  {
   "cell_type": "code",
   "execution_count": null,
   "id": "5029bc1c",
   "metadata": {},
   "outputs": [],
   "source": []
  }
 ],
 "metadata": {
  "kernelspec": {
   "display_name": "Python 3",
   "language": "python",
   "name": "python3"
  },
  "language_info": {
   "codemirror_mode": {
    "name": "ipython",
    "version": 3
   },
   "file_extension": ".py",
   "mimetype": "text/x-python",
   "name": "python",
   "nbconvert_exporter": "python",
   "pygments_lexer": "ipython3",
   "version": "3.8.8"
  }
 },
 "nbformat": 4,
 "nbformat_minor": 5
}
