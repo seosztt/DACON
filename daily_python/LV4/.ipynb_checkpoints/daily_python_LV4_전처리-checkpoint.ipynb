{
 "cells": [
  {
   "cell_type": "markdown",
   "id": "a2dbdd01",
   "metadata": {},
   "source": [
    "# 다중공선성 해결"
   ]
  },
  {
   "cell_type": "markdown",
   "id": "9b7388eb",
   "metadata": {},
   "source": [
    "다중공선성을 해결 하는 방법은 크게 3가지가 있습니다. \n",
    "\n",
    "1. 변수 정규화\n",
    "2. 변수 제거\n",
    "3. PCA(주성분 분석)"
   ]
  },
  {
   "cell_type": "markdown",
   "id": "10874e53",
   "metadata": {},
   "source": [
    "## 변수 정규화"
   ]
  },
  {
   "cell_type": "code",
   "execution_count": 8,
   "id": "be6edbce",
   "metadata": {},
   "outputs": [],
   "source": [
    "import pandas as pd\n",
    "import seaborn as sns\n",
    "\n",
    "from statsmodels.stats.outliers_influence import variance_inflation_factor"
   ]
  },
  {
   "cell_type": "code",
   "execution_count": 4,
   "id": "54932b6f",
   "metadata": {},
   "outputs": [],
   "source": [
    "train=pd.read_csv('data/train.csv')"
   ]
  },
  {
   "cell_type": "code",
   "execution_count": 10,
   "id": "407f6cf3",
   "metadata": {},
   "outputs": [],
   "source": [
    "train.drop('type',inplace=True,axis=1)"
   ]
  },
  {
   "cell_type": "code",
   "execution_count": 11,
   "id": "4ff38aa5",
   "metadata": {},
   "outputs": [
    {
     "data": {
      "text/html": [
       "<div>\n",
       "<style scoped>\n",
       "    .dataframe tbody tr th:only-of-type {\n",
       "        vertical-align: middle;\n",
       "    }\n",
       "\n",
       "    .dataframe tbody tr th {\n",
       "        vertical-align: top;\n",
       "    }\n",
       "\n",
       "    .dataframe thead th {\n",
       "        text-align: right;\n",
       "    }\n",
       "</style>\n",
       "<table border=\"1\" class=\"dataframe\">\n",
       "  <thead>\n",
       "    <tr style=\"text-align: right;\">\n",
       "      <th></th>\n",
       "      <th>VIF Factor</th>\n",
       "      <th>feature</th>\n",
       "    </tr>\n",
       "  </thead>\n",
       "  <tbody>\n",
       "    <tr>\n",
       "      <th>0</th>\n",
       "      <td>4.007175</td>\n",
       "      <td>index</td>\n",
       "    </tr>\n",
       "    <tr>\n",
       "      <th>1</th>\n",
       "      <td>64.107432</td>\n",
       "      <td>quality</td>\n",
       "    </tr>\n",
       "    <tr>\n",
       "      <th>2</th>\n",
       "      <td>59.149187</td>\n",
       "      <td>fixed acidity</td>\n",
       "    </tr>\n",
       "    <tr>\n",
       "      <th>3</th>\n",
       "      <td>9.610687</td>\n",
       "      <td>volatile acidity</td>\n",
       "    </tr>\n",
       "    <tr>\n",
       "      <th>4</th>\n",
       "      <td>9.273444</td>\n",
       "      <td>citric acid</td>\n",
       "    </tr>\n",
       "    <tr>\n",
       "      <th>5</th>\n",
       "      <td>3.616414</td>\n",
       "      <td>residual sugar</td>\n",
       "    </tr>\n",
       "    <tr>\n",
       "      <th>6</th>\n",
       "      <td>5.715981</td>\n",
       "      <td>chlorides</td>\n",
       "    </tr>\n",
       "    <tr>\n",
       "      <th>7</th>\n",
       "      <td>8.420883</td>\n",
       "      <td>free sulfur dioxide</td>\n",
       "    </tr>\n",
       "    <tr>\n",
       "      <th>8</th>\n",
       "      <td>14.833789</td>\n",
       "      <td>total sulfur dioxide</td>\n",
       "    </tr>\n",
       "    <tr>\n",
       "      <th>9</th>\n",
       "      <td>945.323991</td>\n",
       "      <td>density</td>\n",
       "    </tr>\n",
       "    <tr>\n",
       "      <th>10</th>\n",
       "      <td>583.501187</td>\n",
       "      <td>pH</td>\n",
       "    </tr>\n",
       "    <tr>\n",
       "      <th>11</th>\n",
       "      <td>18.535850</td>\n",
       "      <td>sulphates</td>\n",
       "    </tr>\n",
       "    <tr>\n",
       "      <th>12</th>\n",
       "      <td>131.126700</td>\n",
       "      <td>alcohol</td>\n",
       "    </tr>\n",
       "  </tbody>\n",
       "</table>\n",
       "</div>"
      ],
      "text/plain": [
       "    VIF Factor               feature\n",
       "0     4.007175                 index\n",
       "1    64.107432               quality\n",
       "2    59.149187         fixed acidity\n",
       "3     9.610687      volatile acidity\n",
       "4     9.273444           citric acid\n",
       "5     3.616414        residual sugar\n",
       "6     5.715981             chlorides\n",
       "7     8.420883   free sulfur dioxide\n",
       "8    14.833789  total sulfur dioxide\n",
       "9   945.323991               density\n",
       "10  583.501187                    pH\n",
       "11   18.535850             sulphates\n",
       "12  131.126700               alcohol"
      ]
     },
     "execution_count": 11,
     "metadata": {},
     "output_type": "execute_result"
    }
   ],
   "source": [
    "vif=pd.DataFrame()\n",
    "vif['VIF Factor']=[variance_inflation_factor(train.values,i) for i in range(train.shape[1])]\n",
    "vif['feature']=train.columns\n",
    "vif"
   ]
  },
  {
   "cell_type": "code",
   "execution_count": 12,
   "id": "66bad0b8",
   "metadata": {},
   "outputs": [],
   "source": [
    "from sklearn.preprocessing import MinMaxScaler\n",
    "scaler=MinMaxScaler()\n",
    "scaler.fit(train)\n",
    "train_scale=scaler.transform(train)"
   ]
  },
  {
   "cell_type": "code",
   "execution_count": 13,
   "id": "2e21cca5",
   "metadata": {},
   "outputs": [],
   "source": [
    "new_train_df=pd.DataFrame(train_scale)\n",
    "new_train_df.columns=train.columns"
   ]
  },
  {
   "cell_type": "code",
   "execution_count": 14,
   "id": "2739ccb3",
   "metadata": {
    "scrolled": true
   },
   "outputs": [
    {
     "data": {
      "text/html": [
       "<div>\n",
       "<style scoped>\n",
       "    .dataframe tbody tr th:only-of-type {\n",
       "        vertical-align: middle;\n",
       "    }\n",
       "\n",
       "    .dataframe tbody tr th {\n",
       "        vertical-align: top;\n",
       "    }\n",
       "\n",
       "    .dataframe thead th {\n",
       "        text-align: right;\n",
       "    }\n",
       "</style>\n",
       "<table border=\"1\" class=\"dataframe\">\n",
       "  <thead>\n",
       "    <tr style=\"text-align: right;\">\n",
       "      <th></th>\n",
       "      <th>VIF Factor</th>\n",
       "      <th>feature</th>\n",
       "    </tr>\n",
       "  </thead>\n",
       "  <tbody>\n",
       "    <tr>\n",
       "      <th>0</th>\n",
       "      <td>3.848628</td>\n",
       "      <td>index</td>\n",
       "    </tr>\n",
       "    <tr>\n",
       "      <th>1</th>\n",
       "      <td>14.491571</td>\n",
       "      <td>quality</td>\n",
       "    </tr>\n",
       "    <tr>\n",
       "      <th>2</th>\n",
       "      <td>37.792930</td>\n",
       "      <td>fixed acidity</td>\n",
       "    </tr>\n",
       "    <tr>\n",
       "      <th>3</th>\n",
       "      <td>6.978592</td>\n",
       "      <td>volatile acidity</td>\n",
       "    </tr>\n",
       "    <tr>\n",
       "      <th>4</th>\n",
       "      <td>9.094026</td>\n",
       "      <td>citric acid</td>\n",
       "    </tr>\n",
       "    <tr>\n",
       "      <th>5</th>\n",
       "      <td>14.246815</td>\n",
       "      <td>residual sugar</td>\n",
       "    </tr>\n",
       "    <tr>\n",
       "      <th>6</th>\n",
       "      <td>4.590877</td>\n",
       "      <td>chlorides</td>\n",
       "    </tr>\n",
       "    <tr>\n",
       "      <th>7</th>\n",
       "      <td>8.009056</td>\n",
       "      <td>free sulfur dioxide</td>\n",
       "    </tr>\n",
       "    <tr>\n",
       "      <th>8</th>\n",
       "      <td>11.227393</td>\n",
       "      <td>total sulfur dioxide</td>\n",
       "    </tr>\n",
       "    <tr>\n",
       "      <th>9</th>\n",
       "      <td>106.041429</td>\n",
       "      <td>density</td>\n",
       "    </tr>\n",
       "    <tr>\n",
       "      <th>10</th>\n",
       "      <td>23.477330</td>\n",
       "      <td>pH</td>\n",
       "    </tr>\n",
       "    <tr>\n",
       "      <th>11</th>\n",
       "      <td>8.249344</td>\n",
       "      <td>sulphates</td>\n",
       "    </tr>\n",
       "    <tr>\n",
       "      <th>12</th>\n",
       "      <td>22.504171</td>\n",
       "      <td>alcohol</td>\n",
       "    </tr>\n",
       "  </tbody>\n",
       "</table>\n",
       "</div>"
      ],
      "text/plain": [
       "    VIF Factor               feature\n",
       "0     3.848628                 index\n",
       "1    14.491571               quality\n",
       "2    37.792930         fixed acidity\n",
       "3     6.978592      volatile acidity\n",
       "4     9.094026           citric acid\n",
       "5    14.246815        residual sugar\n",
       "6     4.590877             chlorides\n",
       "7     8.009056   free sulfur dioxide\n",
       "8    11.227393  total sulfur dioxide\n",
       "9   106.041429               density\n",
       "10   23.477330                    pH\n",
       "11    8.249344             sulphates\n",
       "12   22.504171               alcohol"
      ]
     },
     "execution_count": 14,
     "metadata": {},
     "output_type": "execute_result"
    }
   ],
   "source": [
    "vif=pd.DataFrame()\n",
    "vif['VIF Factor']=[variance_inflation_factor(new_train_df.values,i) for i in range(new_train_df.shape[1])]\n",
    "vif['feature']=new_train_df.columns\n",
    "vif"
   ]
  },
  {
   "cell_type": "markdown",
   "id": "0ccca59c",
   "metadata": {},
   "source": [
    "## 변수 제거"
   ]
  },
  {
   "cell_type": "code",
   "execution_count": 15,
   "id": "7de9281b",
   "metadata": {},
   "outputs": [
    {
     "data": {
      "text/html": [
       "<div>\n",
       "<style scoped>\n",
       "    .dataframe tbody tr th:only-of-type {\n",
       "        vertical-align: middle;\n",
       "    }\n",
       "\n",
       "    .dataframe tbody tr th {\n",
       "        vertical-align: top;\n",
       "    }\n",
       "\n",
       "    .dataframe thead th {\n",
       "        text-align: right;\n",
       "    }\n",
       "</style>\n",
       "<table border=\"1\" class=\"dataframe\">\n",
       "  <thead>\n",
       "    <tr style=\"text-align: right;\">\n",
       "      <th></th>\n",
       "      <th>VIF Factor</th>\n",
       "      <th>feature</th>\n",
       "    </tr>\n",
       "  </thead>\n",
       "  <tbody>\n",
       "    <tr>\n",
       "      <th>0</th>\n",
       "      <td>4.007175</td>\n",
       "      <td>index</td>\n",
       "    </tr>\n",
       "    <tr>\n",
       "      <th>1</th>\n",
       "      <td>64.107432</td>\n",
       "      <td>quality</td>\n",
       "    </tr>\n",
       "    <tr>\n",
       "      <th>2</th>\n",
       "      <td>59.149187</td>\n",
       "      <td>fixed acidity</td>\n",
       "    </tr>\n",
       "    <tr>\n",
       "      <th>3</th>\n",
       "      <td>9.610687</td>\n",
       "      <td>volatile acidity</td>\n",
       "    </tr>\n",
       "    <tr>\n",
       "      <th>4</th>\n",
       "      <td>9.273444</td>\n",
       "      <td>citric acid</td>\n",
       "    </tr>\n",
       "    <tr>\n",
       "      <th>5</th>\n",
       "      <td>3.616414</td>\n",
       "      <td>residual sugar</td>\n",
       "    </tr>\n",
       "    <tr>\n",
       "      <th>6</th>\n",
       "      <td>5.715981</td>\n",
       "      <td>chlorides</td>\n",
       "    </tr>\n",
       "    <tr>\n",
       "      <th>7</th>\n",
       "      <td>8.420883</td>\n",
       "      <td>free sulfur dioxide</td>\n",
       "    </tr>\n",
       "    <tr>\n",
       "      <th>8</th>\n",
       "      <td>14.833789</td>\n",
       "      <td>total sulfur dioxide</td>\n",
       "    </tr>\n",
       "    <tr>\n",
       "      <th>9</th>\n",
       "      <td>945.323991</td>\n",
       "      <td>density</td>\n",
       "    </tr>\n",
       "    <tr>\n",
       "      <th>10</th>\n",
       "      <td>583.501187</td>\n",
       "      <td>pH</td>\n",
       "    </tr>\n",
       "    <tr>\n",
       "      <th>11</th>\n",
       "      <td>18.535850</td>\n",
       "      <td>sulphates</td>\n",
       "    </tr>\n",
       "    <tr>\n",
       "      <th>12</th>\n",
       "      <td>131.126700</td>\n",
       "      <td>alcohol</td>\n",
       "    </tr>\n",
       "  </tbody>\n",
       "</table>\n",
       "</div>"
      ],
      "text/plain": [
       "    VIF Factor               feature\n",
       "0     4.007175                 index\n",
       "1    64.107432               quality\n",
       "2    59.149187         fixed acidity\n",
       "3     9.610687      volatile acidity\n",
       "4     9.273444           citric acid\n",
       "5     3.616414        residual sugar\n",
       "6     5.715981             chlorides\n",
       "7     8.420883   free sulfur dioxide\n",
       "8    14.833789  total sulfur dioxide\n",
       "9   945.323991               density\n",
       "10  583.501187                    pH\n",
       "11   18.535850             sulphates\n",
       "12  131.126700               alcohol"
      ]
     },
     "execution_count": 15,
     "metadata": {},
     "output_type": "execute_result"
    }
   ],
   "source": [
    "vif=pd.DataFrame()\n",
    "vif['VIF Factor']=[variance_inflation_factor(train.values,i) for i in range(train.shape[1])]\n",
    "vif['feature']=train.columns\n",
    "vif"
   ]
  },
  {
   "cell_type": "code",
   "execution_count": 18,
   "id": "f1473a8f",
   "metadata": {},
   "outputs": [],
   "source": [
    "new_train=train.drop(['alcohol','fixed acidity','total sulfur dioxide','density','pH','sulphates'],axis=1)"
   ]
  },
  {
   "cell_type": "code",
   "execution_count": 20,
   "id": "a6c79dba",
   "metadata": {},
   "outputs": [],
   "source": [
    "new_train_df=pd.DataFrame(new_train)\n",
    "new_train_df.columns=new_train.columns"
   ]
  },
  {
   "cell_type": "code",
   "execution_count": 21,
   "id": "35d4277b",
   "metadata": {
    "scrolled": true
   },
   "outputs": [
    {
     "data": {
      "text/html": [
       "<div>\n",
       "<style scoped>\n",
       "    .dataframe tbody tr th:only-of-type {\n",
       "        vertical-align: middle;\n",
       "    }\n",
       "\n",
       "    .dataframe tbody tr th {\n",
       "        vertical-align: top;\n",
       "    }\n",
       "\n",
       "    .dataframe thead th {\n",
       "        text-align: right;\n",
       "    }\n",
       "</style>\n",
       "<table border=\"1\" class=\"dataframe\">\n",
       "  <thead>\n",
       "    <tr style=\"text-align: right;\">\n",
       "      <th></th>\n",
       "      <th>VIF Factor</th>\n",
       "      <th>feature</th>\n",
       "    </tr>\n",
       "  </thead>\n",
       "  <tbody>\n",
       "    <tr>\n",
       "      <th>0</th>\n",
       "      <td>3.833384</td>\n",
       "      <td>index</td>\n",
       "    </tr>\n",
       "    <tr>\n",
       "      <th>1</th>\n",
       "      <td>14.972137</td>\n",
       "      <td>quality</td>\n",
       "    </tr>\n",
       "    <tr>\n",
       "      <th>2</th>\n",
       "      <td>6.241906</td>\n",
       "      <td>volatile acidity</td>\n",
       "    </tr>\n",
       "    <tr>\n",
       "      <th>3</th>\n",
       "      <td>6.411839</td>\n",
       "      <td>citric acid</td>\n",
       "    </tr>\n",
       "    <tr>\n",
       "      <th>4</th>\n",
       "      <td>2.751270</td>\n",
       "      <td>residual sugar</td>\n",
       "    </tr>\n",
       "    <tr>\n",
       "      <th>5</th>\n",
       "      <td>4.407827</td>\n",
       "      <td>chlorides</td>\n",
       "    </tr>\n",
       "    <tr>\n",
       "      <th>6</th>\n",
       "      <td>4.853373</td>\n",
       "      <td>free sulfur dioxide</td>\n",
       "    </tr>\n",
       "  </tbody>\n",
       "</table>\n",
       "</div>"
      ],
      "text/plain": [
       "   VIF Factor              feature\n",
       "0    3.833384                index\n",
       "1   14.972137              quality\n",
       "2    6.241906     volatile acidity\n",
       "3    6.411839          citric acid\n",
       "4    2.751270       residual sugar\n",
       "5    4.407827            chlorides\n",
       "6    4.853373  free sulfur dioxide"
      ]
     },
     "execution_count": 21,
     "metadata": {},
     "output_type": "execute_result"
    }
   ],
   "source": [
    "vif=pd.DataFrame()\n",
    "vif['VIF Factor']=[variance_inflation_factor(new_train_df.values,i) for i in range(new_train_df.shape[1])]\n",
    "vif['feature']=new_train_df.columns\n",
    "vif"
   ]
  },
  {
   "cell_type": "markdown",
   "id": "54af6754",
   "metadata": {},
   "source": [
    "## PCA"
   ]
  },
  {
   "cell_type": "code",
   "execution_count": 24,
   "id": "a83be64d",
   "metadata": {},
   "outputs": [
    {
     "data": {
      "text/html": [
       "<div>\n",
       "<style scoped>\n",
       "    .dataframe tbody tr th:only-of-type {\n",
       "        vertical-align: middle;\n",
       "    }\n",
       "\n",
       "    .dataframe tbody tr th {\n",
       "        vertical-align: top;\n",
       "    }\n",
       "\n",
       "    .dataframe thead th {\n",
       "        text-align: right;\n",
       "    }\n",
       "</style>\n",
       "<table border=\"1\" class=\"dataframe\">\n",
       "  <thead>\n",
       "    <tr style=\"text-align: right;\">\n",
       "      <th></th>\n",
       "      <th>sepal_length</th>\n",
       "      <th>sepal_width</th>\n",
       "      <th>petal_length</th>\n",
       "      <th>petal_width</th>\n",
       "      <th>target</th>\n",
       "    </tr>\n",
       "  </thead>\n",
       "  <tbody>\n",
       "    <tr>\n",
       "      <th>0</th>\n",
       "      <td>5.1</td>\n",
       "      <td>3.5</td>\n",
       "      <td>1.4</td>\n",
       "      <td>0.2</td>\n",
       "      <td>0</td>\n",
       "    </tr>\n",
       "    <tr>\n",
       "      <th>1</th>\n",
       "      <td>4.9</td>\n",
       "      <td>3.0</td>\n",
       "      <td>1.4</td>\n",
       "      <td>0.2</td>\n",
       "      <td>0</td>\n",
       "    </tr>\n",
       "    <tr>\n",
       "      <th>2</th>\n",
       "      <td>4.7</td>\n",
       "      <td>3.2</td>\n",
       "      <td>1.3</td>\n",
       "      <td>0.2</td>\n",
       "      <td>0</td>\n",
       "    </tr>\n",
       "  </tbody>\n",
       "</table>\n",
       "</div>"
      ],
      "text/plain": [
       "   sepal_length  sepal_width  petal_length  petal_width  target\n",
       "0           5.1          3.5           1.4          0.2       0\n",
       "1           4.9          3.0           1.4          0.2       0\n",
       "2           4.7          3.2           1.3          0.2       0"
      ]
     },
     "execution_count": 24,
     "metadata": {},
     "output_type": "execute_result"
    }
   ],
   "source": [
    "from sklearn.datasets import load_iris\n",
    "\n",
    "iris=load_iris()\n",
    "\n",
    "df=pd.DataFrame(iris.data)\n",
    "df.columns=['sepal_length','sepal_width','petal_length','petal_width']\n",
    "df['target']=iris.target\n",
    "df.head(3)"
   ]
  },
  {
   "cell_type": "code",
   "execution_count": 28,
   "id": "7a607152",
   "metadata": {},
   "outputs": [],
   "source": [
    "import matplotlib.pyplot as plt\n",
    "from sklearn.preprocessing import MinMaxScaler\n",
    "from sklearn.decomposition import PCA"
   ]
  },
  {
   "cell_type": "code",
   "execution_count": 31,
   "id": "7b6ec1b3",
   "metadata": {},
   "outputs": [
    {
     "data": {
      "image/png": "[encoded data removed]",
      "text/plain": [
       "<Figure size 432x288 with 1 Axes>"
      ]
     },
     "metadata": {
      "needs_background": "light"
     },
     "output_type": "display_data"
    }
   ],
   "source": [
    "color=['r','y','b']\n",
    "\n",
    "for i, c in enumerate(color):\n",
    "    x_axis_data=df[df['target']==i]['sepal_length']\n",
    "    y_axis_data=df[df['target']==i]['sepal_width']\n",
    "    plt.scatter(x_axis_data, y_axis_data, color=c,label=iris.target_names[i])\n",
    "    \n",
    "plt.legend()\n",
    "plt.xlabel('sepal length')\n",
    "plt.ylabel('sepal width')\n",
    "plt.show()"
   ]
  },
  {
   "cell_type": "code",
   "execution_count": 32,
   "id": "69d01410",
   "metadata": {},
   "outputs": [
    {
     "name": "stdout",
     "output_type": "stream",
     "text": [
      "(150, 2)\n"
     ]
    }
   ],
   "source": [
    "df_features=df[['sepal_length','sepal_width','petal_length','petal_width']]\n",
    "df_scaler=MinMaxScaler().fit_transform(df_features)\n",
    "\n",
    "pca=PCA(n_components=2)\n",
    "\n",
    "pca.fit(df_scaler)\n",
    "df_pca=pca.transform(df_scaler)\n",
    "\n",
    "print(df_pca.shape)"
   ]
  },
  {
   "cell_type": "code",
   "execution_count": 38,
   "id": "557fb853",
   "metadata": {},
   "outputs": [
    {
     "data": {
      "text/html": [
       "<div>\n",
       "<style scoped>\n",
       "    .dataframe tbody tr th:only-of-type {\n",
       "        vertical-align: middle;\n",
       "    }\n",
       "\n",
       "    .dataframe tbody tr th {\n",
       "        vertical-align: top;\n",
       "    }\n",
       "\n",
       "    .dataframe thead th {\n",
       "        text-align: right;\n",
       "    }\n",
       "</style>\n",
       "<table border=\"1\" class=\"dataframe\">\n",
       "  <thead>\n",
       "    <tr style=\"text-align: right;\">\n",
       "      <th></th>\n",
       "      <th>PCA_1</th>\n",
       "      <th>PCA_2</th>\n",
       "      <th>target</th>\n",
       "    </tr>\n",
       "  </thead>\n",
       "  <tbody>\n",
       "    <tr>\n",
       "      <th>0</th>\n",
       "      <td>-0.630703</td>\n",
       "      <td>0.107578</td>\n",
       "      <td>0</td>\n",
       "    </tr>\n",
       "    <tr>\n",
       "      <th>1</th>\n",
       "      <td>-0.622905</td>\n",
       "      <td>-0.104260</td>\n",
       "      <td>0</td>\n",
       "    </tr>\n",
       "    <tr>\n",
       "      <th>2</th>\n",
       "      <td>-0.669520</td>\n",
       "      <td>-0.051417</td>\n",
       "      <td>0</td>\n",
       "    </tr>\n",
       "  </tbody>\n",
       "</table>\n",
       "</div>"
      ],
      "text/plain": [
       "      PCA_1     PCA_2  target\n",
       "0 -0.630703  0.107578       0\n",
       "1 -0.622905 -0.104260       0\n",
       "2 -0.669520 -0.051417       0"
      ]
     },
     "execution_count": 38,
     "metadata": {},
     "output_type": "execute_result"
    }
   ],
   "source": [
    "df_pca=pd.DataFrame(df_pca)\n",
    "\n",
    "df_pca.columns=['PCA_1','PCA_2']\n",
    "\n",
    "df_pca['target']=df.target\n",
    "\n",
    "df_pca.head(3)"
   ]
  },
  {
   "cell_type": "code",
   "execution_count": 40,
   "id": "1a859e32",
   "metadata": {},
   "outputs": [
    {
     "data": {
      "image/png": "[encoded data removed]",
      "text/plain": [
       "<Figure size 432x288 with 1 Axes>"
      ]
     },
     "metadata": {
      "needs_background": "light"
     },
     "output_type": "display_data"
    }
   ],
   "source": [
    "color=['r','y','b']\n",
    "\n",
    "for i, c in enumerate(color):\n",
    "    x_axis_data=df_pca[df_pca['target']==i]['PCA_1']\n",
    "    y_axis_data=df_pca[df_pca['target']==i]['PCA_2']\n",
    "    plt.scatter(x_axis_data, y_axis_data, color=c,label=iris.target_names[i])\n",
    "    \n",
    "plt.legend()\n",
    "plt.xlabel('PCA_1')\n",
    "plt.ylabel('PCA_2')\n",
    "plt.show()"
   ]
  },
  {
   "cell_type": "markdown",
   "id": "c0d8dba1",
   "metadata": {},
   "source": [
    "# 연속형 변수 변환"
   ]
  },
  {
   "cell_type": "markdown",
   "id": "3c900484",
   "metadata": {},
   "source": [
    "머신러닝 모델링을 하다 보면 제한된 변수로 성능을 끌어 올리는 데는 한계가 있습니다.  \n",
    "\n",
    "\n",
    "실제 데이콘 대회 우승자 코드를 살펴보면,  전처리와 모델링은 크게 차이가 없습니다.\n",
    "\n",
    "우승자들과 그 외 사람들을 비교해보면, 크게 다음 두 가지에서 큰 차이를 보입니다.\n",
    "\n",
    "\n",
    "1. 어떻게 데이터를 증강시켰는지? \n",
    "2. 어떤 파생 변수를 추가하였는지 ?\n",
    "\n",
    "특히 정형 데이터의 경우 데이터 증강은 제한적입니다. 그래서 더욱더 효율적인 파생 변수를 추가하는 것이 중요합니다.  \n",
    "\n",
    "오늘은 가장 간단하게 파생 변수를 추가할 수 있는 방법인 연속형 변수를 범주형 변수로 변환 시켜보겠습니다.\n",
    "\n",
    "\n",
    "\n",
    "연속형 변수를 범주형 변수로 변환 시키는 방법은 여러가지가 있겠지만 크게 2가지에 대해서 알아보도록 하겠습니다.\n",
    "\n",
    "\n",
    "\n",
    "1. 수치 범위 구간을 직접 지정해 레이블링 하기.\n",
    "2. 판다스의 cut() 함수로 레이블링 하기"
   ]
  },
  {
   "cell_type": "markdown",
   "id": "9b742b37",
   "metadata": {},
   "source": [
    "## 수치 범위 구간을 직접 지정해 레이블링 하기"
   ]
  },
  {
   "cell_type": "code",
   "execution_count": 43,
   "id": "3416c444",
   "metadata": {},
   "outputs": [],
   "source": [
    "train = pd.read_csv('data/train.csv')"
   ]
  },
  {
   "cell_type": "code",
   "execution_count": 44,
   "id": "615b9f5d",
   "metadata": {},
   "outputs": [],
   "source": [
    "def func(x):\n",
    "    if x<3:\n",
    "        return 'lowest'\n",
    "    elif x<3.3:\n",
    "        return 'low'\n",
    "    elif x <3.5:\n",
    "        return 'normal'\n",
    "    else:\n",
    "        return 'high'\n",
    "    \n",
    "train['pH']=train['pH'].apply(lambda x:func(x))"
   ]
  },
  {
   "cell_type": "code",
   "execution_count": 46,
   "id": "83c570f2",
   "metadata": {
    "scrolled": true
   },
   "outputs": [
    {
     "data": {
      "text/html": [
       "<div>\n",
       "<style scoped>\n",
       "    .dataframe tbody tr th:only-of-type {\n",
       "        vertical-align: middle;\n",
       "    }\n",
       "\n",
       "    .dataframe tbody tr th {\n",
       "        vertical-align: top;\n",
       "    }\n",
       "\n",
       "    .dataframe thead th {\n",
       "        text-align: right;\n",
       "    }\n",
       "</style>\n",
       "<table border=\"1\" class=\"dataframe\">\n",
       "  <thead>\n",
       "    <tr style=\"text-align: right;\">\n",
       "      <th></th>\n",
       "      <th>index</th>\n",
       "      <th>quality</th>\n",
       "      <th>fixed acidity</th>\n",
       "      <th>volatile acidity</th>\n",
       "      <th>citric acid</th>\n",
       "      <th>residual sugar</th>\n",
       "      <th>chlorides</th>\n",
       "      <th>free sulfur dioxide</th>\n",
       "      <th>total sulfur dioxide</th>\n",
       "      <th>density</th>\n",
       "      <th>pH</th>\n",
       "      <th>sulphates</th>\n",
       "      <th>alcohol</th>\n",
       "      <th>type</th>\n",
       "    </tr>\n",
       "  </thead>\n",
       "  <tbody>\n",
       "    <tr>\n",
       "      <th>0</th>\n",
       "      <td>0</td>\n",
       "      <td>5</td>\n",
       "      <td>5.6</td>\n",
       "      <td>0.695</td>\n",
       "      <td>0.06</td>\n",
       "      <td>6.8</td>\n",
       "      <td>0.042</td>\n",
       "      <td>9.0</td>\n",
       "      <td>84.0</td>\n",
       "      <td>0.99432</td>\n",
       "      <td>normal</td>\n",
       "      <td>0.44</td>\n",
       "      <td>10.2</td>\n",
       "      <td>white</td>\n",
       "    </tr>\n",
       "    <tr>\n",
       "      <th>1</th>\n",
       "      <td>1</td>\n",
       "      <td>5</td>\n",
       "      <td>8.8</td>\n",
       "      <td>0.610</td>\n",
       "      <td>0.14</td>\n",
       "      <td>2.4</td>\n",
       "      <td>0.067</td>\n",
       "      <td>10.0</td>\n",
       "      <td>42.0</td>\n",
       "      <td>0.99690</td>\n",
       "      <td>low</td>\n",
       "      <td>0.59</td>\n",
       "      <td>9.5</td>\n",
       "      <td>red</td>\n",
       "    </tr>\n",
       "    <tr>\n",
       "      <th>2</th>\n",
       "      <td>2</td>\n",
       "      <td>5</td>\n",
       "      <td>7.9</td>\n",
       "      <td>0.210</td>\n",
       "      <td>0.39</td>\n",
       "      <td>2.0</td>\n",
       "      <td>0.057</td>\n",
       "      <td>21.0</td>\n",
       "      <td>138.0</td>\n",
       "      <td>0.99176</td>\n",
       "      <td>low</td>\n",
       "      <td>0.52</td>\n",
       "      <td>10.9</td>\n",
       "      <td>white</td>\n",
       "    </tr>\n",
       "    <tr>\n",
       "      <th>3</th>\n",
       "      <td>3</td>\n",
       "      <td>6</td>\n",
       "      <td>7.0</td>\n",
       "      <td>0.210</td>\n",
       "      <td>0.31</td>\n",
       "      <td>6.0</td>\n",
       "      <td>0.046</td>\n",
       "      <td>29.0</td>\n",
       "      <td>108.0</td>\n",
       "      <td>0.99390</td>\n",
       "      <td>low</td>\n",
       "      <td>0.50</td>\n",
       "      <td>10.8</td>\n",
       "      <td>white</td>\n",
       "    </tr>\n",
       "    <tr>\n",
       "      <th>4</th>\n",
       "      <td>4</td>\n",
       "      <td>6</td>\n",
       "      <td>7.8</td>\n",
       "      <td>0.400</td>\n",
       "      <td>0.26</td>\n",
       "      <td>9.5</td>\n",
       "      <td>0.059</td>\n",
       "      <td>32.0</td>\n",
       "      <td>178.0</td>\n",
       "      <td>0.99550</td>\n",
       "      <td>low</td>\n",
       "      <td>0.43</td>\n",
       "      <td>10.9</td>\n",
       "      <td>white</td>\n",
       "    </tr>\n",
       "  </tbody>\n",
       "</table>\n",
       "</div>"
      ],
      "text/plain": [
       "   index  quality  fixed acidity  volatile acidity  citric acid  ...  density      pH  sulphates  alcohol   type\n",
       "0      0        5            5.6             0.695         0.06  ...  0.99432  normal       0.44     10.2  white\n",
       "1      1        5            8.8             0.610         0.14  ...  0.99690     low       0.59      9.5    red\n",
       "2      2        5            7.9             0.210         0.39  ...  0.99176     low       0.52     10.9  white\n",
       "3      3        6            7.0             0.210         0.31  ...  0.99390     low       0.50     10.8  white\n",
       "4      4        6            7.8             0.400         0.26  ...  0.99550     low       0.43     10.9  white\n",
       "\n",
       "[5 rows x 14 columns]"
      ]
     },
     "execution_count": 46,
     "metadata": {},
     "output_type": "execute_result"
    }
   ],
   "source": [
    "train.head()"
   ]
  },
  {
   "cell_type": "markdown",
   "id": "50ed4a09",
   "metadata": {},
   "source": [
    "## 판다스의 cut() 함수로 레이블링 하기"
   ]
  },
  {
   "cell_type": "code",
   "execution_count": 47,
   "id": "18b16ffe",
   "metadata": {},
   "outputs": [],
   "source": [
    "train['alcohol']=pd.cut(train.alcohol,5,labels=False)"
   ]
  },
  {
   "cell_type": "code",
   "execution_count": 51,
   "id": "3af5d8e9",
   "metadata": {},
   "outputs": [
    {
     "data": {
      "text/plain": [
       "1    2369\n",
       "2    1470\n",
       "0     983\n",
       "3     639\n",
       "4      36\n",
       "Name: alcohol, dtype: int64"
      ]
     },
     "execution_count": 51,
     "metadata": {},
     "output_type": "execute_result"
    }
   ],
   "source": [
    "train['alcohol'].value_counts()"
   ]
  },
  {
   "cell_type": "markdown",
   "id": "0f14c043",
   "metadata": {},
   "source": [
    "# Polynomial Features "
   ]
  },
  {
   "cell_type": "code",
   "execution_count": 54,
   "id": "d3ee4120",
   "metadata": {},
   "outputs": [],
   "source": [
    "import numpy as np\n",
    "from sklearn.preprocessing import PolynomialFeatures"
   ]
  },
  {
   "cell_type": "code",
   "execution_count": 53,
   "id": "4742fb6d",
   "metadata": {
    "scrolled": true
   },
   "outputs": [
    {
     "data": {
      "text/html": [
       "<div>\n",
       "<style scoped>\n",
       "    .dataframe tbody tr th:only-of-type {\n",
       "        vertical-align: middle;\n",
       "    }\n",
       "\n",
       "    .dataframe tbody tr th {\n",
       "        vertical-align: top;\n",
       "    }\n",
       "\n",
       "    .dataframe thead th {\n",
       "        text-align: right;\n",
       "    }\n",
       "</style>\n",
       "<table border=\"1\" class=\"dataframe\">\n",
       "  <thead>\n",
       "    <tr style=\"text-align: right;\">\n",
       "      <th></th>\n",
       "      <th>x_1</th>\n",
       "      <th>x_2</th>\n",
       "    </tr>\n",
       "  </thead>\n",
       "  <tbody>\n",
       "    <tr>\n",
       "      <th>0</th>\n",
       "      <td>0</td>\n",
       "      <td>1</td>\n",
       "    </tr>\n",
       "    <tr>\n",
       "      <th>1</th>\n",
       "      <td>2</td>\n",
       "      <td>3</td>\n",
       "    </tr>\n",
       "    <tr>\n",
       "      <th>2</th>\n",
       "      <td>4</td>\n",
       "      <td>5</td>\n",
       "    </tr>\n",
       "  </tbody>\n",
       "</table>\n",
       "</div>"
      ],
      "text/plain": [
       "   x_1  x_2\n",
       "0    0    1\n",
       "1    2    3\n",
       "2    4    5"
      ]
     },
     "execution_count": 53,
     "metadata": {},
     "output_type": "execute_result"
    }
   ],
   "source": [
    "X=np.arange(6).reshape(3,2)\n",
    "\n",
    "df=pd.DataFrame(X)\n",
    "df.columns=['x_1','x_2']\n",
    "df"
   ]
  },
  {
   "cell_type": "code",
   "execution_count": 56,
   "id": "6825412b",
   "metadata": {
    "scrolled": false
   },
   "outputs": [
    {
     "data": {
      "text/html": [
       "<div>\n",
       "<style scoped>\n",
       "    .dataframe tbody tr th:only-of-type {\n",
       "        vertical-align: middle;\n",
       "    }\n",
       "\n",
       "    .dataframe tbody tr th {\n",
       "        vertical-align: top;\n",
       "    }\n",
       "\n",
       "    .dataframe thead th {\n",
       "        text-align: right;\n",
       "    }\n",
       "</style>\n",
       "<table border=\"1\" class=\"dataframe\">\n",
       "  <thead>\n",
       "    <tr style=\"text-align: right;\">\n",
       "      <th></th>\n",
       "      <th>0</th>\n",
       "      <th>1</th>\n",
       "      <th>2</th>\n",
       "      <th>3</th>\n",
       "      <th>4</th>\n",
       "      <th>5</th>\n",
       "    </tr>\n",
       "  </thead>\n",
       "  <tbody>\n",
       "    <tr>\n",
       "      <th>0</th>\n",
       "      <td>1.0</td>\n",
       "      <td>0.0</td>\n",
       "      <td>1.0</td>\n",
       "      <td>0.0</td>\n",
       "      <td>0.0</td>\n",
       "      <td>1.0</td>\n",
       "    </tr>\n",
       "    <tr>\n",
       "      <th>1</th>\n",
       "      <td>1.0</td>\n",
       "      <td>2.0</td>\n",
       "      <td>3.0</td>\n",
       "      <td>4.0</td>\n",
       "      <td>6.0</td>\n",
       "      <td>9.0</td>\n",
       "    </tr>\n",
       "    <tr>\n",
       "      <th>2</th>\n",
       "      <td>1.0</td>\n",
       "      <td>4.0</td>\n",
       "      <td>5.0</td>\n",
       "      <td>16.0</td>\n",
       "      <td>20.0</td>\n",
       "      <td>25.0</td>\n",
       "    </tr>\n",
       "  </tbody>\n",
       "</table>\n",
       "</div>"
      ],
      "text/plain": [
       "     0    1    2     3     4     5\n",
       "0  1.0  0.0  1.0   0.0   0.0   1.0\n",
       "1  1.0  2.0  3.0   4.0   6.0   9.0\n",
       "2  1.0  4.0  5.0  16.0  20.0  25.0"
      ]
     },
     "execution_count": 56,
     "metadata": {},
     "output_type": "execute_result"
    }
   ],
   "source": [
    "poly_features=PolynomialFeatures(degree=2)\n",
    "df_poly=poly_features.fit_transform(df)\n",
    "df_poly=pd.DataFrame(df_poly)\n",
    "df_poly"
   ]
  },
  {
   "cell_type": "markdown",
   "id": "db97db39",
   "metadata": {},
   "source": [
    "## 와인품질분류데이터에 적용 "
   ]
  },
  {
   "cell_type": "code",
   "execution_count": 58,
   "id": "ba052b60",
   "metadata": {},
   "outputs": [],
   "source": [
    "train = pd.read_csv('data/train.csv')\n",
    "test = pd.read_csv('data/test.csv')"
   ]
  },
  {
   "cell_type": "code",
   "execution_count": 59,
   "id": "1ed52a3f",
   "metadata": {},
   "outputs": [],
   "source": [
    "train.drop(['type','index'], axis = 1,inplace = True)\n",
    "test.drop(['type','index'], axis = 1,inplace = True)"
   ]
  },
  {
   "cell_type": "code",
   "execution_count": 60,
   "id": "b67e9989",
   "metadata": {},
   "outputs": [],
   "source": [
    "poly_features=PolynomialFeatures(degree=2)\n",
    "\n",
    "df=train.drop('quality',axis=1)\n",
    "df_poly=poly_features.fit_transform(df)\n",
    "df_poly=pd.DataFrame(df_poly)"
   ]
  },
  {
   "cell_type": "code",
   "execution_count": 61,
   "id": "08508b70",
   "metadata": {},
   "outputs": [
    {
     "data": {
      "text/plain": [
       "DecisionTreeClassifier()"
      ]
     },
     "execution_count": 61,
     "metadata": {},
     "output_type": "execute_result"
    }
   ],
   "source": [
    "from sklearn.tree import DecisionTreeClassifier\n",
    "\n",
    "model=DecisionTreeClassifier()\n",
    "model.fit(df_poly, train['quality'])"
   ]
  },
  {
   "cell_type": "code",
   "execution_count": 62,
   "id": "ac129142",
   "metadata": {},
   "outputs": [],
   "source": [
    "poly_features=PolynomialFeatures(degree=2)\n",
    "\n",
    "test_poly=poly_features.fit_transform(test)\n",
    "test_poly=pd.DataFrame(test_poly)"
   ]
  },
  {
   "cell_type": "code",
   "execution_count": 63,
   "id": "be01ae48",
   "metadata": {},
   "outputs": [],
   "source": [
    "pred=model.predict(test_poly)"
   ]
  },
  {
   "cell_type": "code",
   "execution_count": 65,
   "id": "7d0a8354",
   "metadata": {},
   "outputs": [],
   "source": [
    "submission=pd.read_csv('data/sample_submission.csv')\n",
    "submission['quality']=pred\n",
    "submission.to_csv('poly.csv',index=False)"
   ]
  }
 ],
 "metadata": {
  "kernelspec": {
   "display_name": "Python 3",
   "language": "python",
   "name": "python3"
  },
  "language_info": {
   "codemirror_mode": {
    "name": "ipython",
    "version": 3
   },
   "file_extension": ".py",
   "mimetype": "text/x-python",
   "name": "python",
   "nbconvert_exporter": "python",
   "pygments_lexer": "ipython3",
   "version": "3.8.8"
  },
  "toc": {
   "base_numbering": 1,
   "nav_menu": {},
   "number_sections": true,
   "sideBar": true,
   "skip_h1_title": false,
   "title_cell": "Table of Contents",
   "title_sidebar": "Contents",
   "toc_cell": false,
   "toc_position": {},
   "toc_section_display": true,
   "toc_window_display": false
  }
 },
 "nbformat": 4,
 "nbformat_minor": 5
}
